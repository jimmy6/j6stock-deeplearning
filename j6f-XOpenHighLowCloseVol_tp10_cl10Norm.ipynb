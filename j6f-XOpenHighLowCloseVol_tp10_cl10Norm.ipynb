{
 "cells": [
  {
   "cell_type": "code",
   "execution_count": 1,
   "metadata": {
    "collapsed": true
   },
   "outputs": [],
   "source": [
    "xfile = 'F:\\workspace\\j6stock\\XOpenHighLowCloseVol_tp10_cl10.txt'\n",
    "lstm_size = 120         # 3 times the amount of channels\n",
    "lstm_layers = 2        # Number of layers\n",
    "batch_size = 2048       # Batch size\n",
    "learning_rate = 0.001  #0.0001  # Learning rate (default is 0.001)\n",
    "epochs = 20\n",
    "\n",
    "# Fixed\n",
    "#amount_of_features_cvs = 5 # cvs with prefix with feature column\n",
    "#n_channels = amount_of_features\n",
    "seq_len = lstm_size\n",
    "y_column = 6"
   ]
  },
  {
   "cell_type": "code",
   "execution_count": 2,
   "metadata": {},
   "outputs": [
    {
     "name": "stderr",
     "output_type": "stream",
     "text": [
      "Using Theano backend.\n",
      "WARNING (theano.configdefaults): g++ not available, if using conda: `conda install m2w64-toolchain`\n",
      "C:\\Users\\lai\\Anaconda3\\lib\\site-packages\\theano\\configdefaults.py:560: UserWarning: DeprecationWarning: there is no c++ compiler.This is deprecated and with Theano 0.11 a c++ compiler will be mandatory\n",
      "  warnings.warn(\"DeprecationWarning: there is no c++ compiler.\"\n",
      "WARNING (theano.configdefaults): g++ not detected ! Theano will be unable to execute optimized C-implementations (for both CPU and GPU) and will default to Python implementations. Performance will be severely degraded. To remove this warning, set Theano flags cxx to an empty string.\n",
      "WARNING (theano.tensor.blas): Using NumPy C-API based implementation for BLAS functions.\n"
     ]
    }
   ],
   "source": [
    "import tensorflow as tf\n",
    "from sklearn import preprocessing\n",
    "import seaborn as sns\n",
    "import numpy as np\n",
    "import matplotlib.pyplot as plt\n",
    "import matplotlib.pyplot as plt2\n",
    "import pandas as pd\n",
    "from pandas import datetime\n",
    "import math, time\n",
    "import itertools\n",
    "from sklearn import preprocessing\n",
    "import datetime\n",
    "from sklearn.metrics import mean_squared_error\n",
    "from math import sqrt\n",
    "from keras.models import Sequential\n",
    "from keras.layers.core import Dense, Dropout, Activation\n",
    "from keras.layers.recurrent import LSTM\n",
    "from keras.models import load_model\n",
    "import keras\n",
    "import pandas_datareader.data as web\n",
    "import h5py\n",
    "import os\n",
    "from keras import backend as K"
   ]
  },
  {
   "cell_type": "code",
   "execution_count": 3,
   "metadata": {
    "collapsed": true
   },
   "outputs": [],
   "source": [
    "def get_stock_data(normalize=True, ma=[]):\n",
    "    \"\"\"\n",
    "    Return a dataframe of that stock and normalize all the values. \n",
    "    (Optional: create moving average)\n",
    "    \"\"\"\n",
    "    df = pd.read_csv(filepath_or_buffer  = xfile )\n",
    "    #TODO Use previous close instead of open\n",
    "    df['change'] = df['close'] - df['open']\n",
    "    for i, row in df.iterrows():\n",
    "        df.at[i, 'high'] = df.at[i, 'high'] - (df.at[i, 'open'] if df.at[i, 'open'] > df.at[i, 'close'] else df.at[i, 'close'])\n",
    "        df.at[i, 'low'] = (df.at[i, 'close'] if df.at[i, 'close'] < df.at[i, 'open'] else df.at[i, 'open']) - df.at[i, 'low']\n",
    "    df.dropna(inplace=True)\n",
    "    df = df.drop('open', axis=1)\n",
    "    # Moving Average    \n",
    "    if ma != []:\n",
    "        for moving in ma:\n",
    "            df['{}ma'.format(moving)] = df['close'].rolling(window=moving).mean()\n",
    "    df.dropna(inplace=True)\n",
    "    if normalize:\n",
    "        min_max_scaler = preprocessing.MinMaxScaler()\n",
    "        #df['open'] = min_max_scaler.fit_transform(df.open.values.reshape(-1,1))\n",
    "        # df['high'] = min_max_scaler.fit_transform(df.high.values.reshape(-1,1))\n",
    "        #df['low'] = min_max_scaler.fit_transform(df.low.values.reshape(-1,1))\n",
    "        #df['vol'] = min_max_scaler.fit_transform(df.vol.values.reshape(-1,1))\n",
    "        df['close'] = min_max_scaler.fit_transform(df['close'].values.reshape(-1,1))\n",
    "        #df['change'] = min_max_scaler.fit_transform(df['change'].values.reshape(-1,1))\n",
    "        if ma != []:\n",
    "            for moving in ma:\n",
    "                df['{}ma'.format(moving)] = min_max_scaler.fit_transform(df['{}ma'.format(moving)].values.reshape(-1,1))  \n",
    "    df.dropna(inplace=True)\n",
    "               \n",
    "    # Move y_result to the rightmost for the ease of training\n",
    "    adj_close = df['y_result']\n",
    "    df.drop(labels=['y_result'], axis=1, inplace=True)\n",
    "    df = pd.concat([df, adj_close], axis=1)\n",
    "      \n",
    "    return df"
   ]
  },
  {
   "cell_type": "code",
   "execution_count": 4,
   "metadata": {
    "collapsed": true
   },
   "outputs": [],
   "source": [
    "df = get_stock_data( ma=[50, 100, 200])\n",
    "amount_of_features = len(df.columns)-1"
   ]
  },
  {
   "cell_type": "code",
   "execution_count": 5,
   "metadata": {
    "collapsed": true
   },
   "outputs": [],
   "source": [
    "def plot_stock(df):\n",
    "    print(df.head())\n",
    "    plt.subplot(211)\n",
    "    plt.plot(df['close'], color='red', label='Close')\n",
    "    plt.legend(loc='best')\n",
    "    plt.subplot(212)\n",
    "    plt.plot(df['change'], color='blue', label='Percentage change')\n",
    "    plt.legend(loc='best')\n",
    "    plt.show()"
   ]
  },
  {
   "cell_type": "code",
   "execution_count": 6,
   "metadata": {},
   "outputs": [
    {
     "name": "stdout",
     "output_type": "stream",
     "text": [
      "         high       low     close    change      50ma     100ma     200ma  \\\n",
      "199  0.000000  0.000020  0.357085 -0.000150  0.351429  0.351070  0.346428   \n",
      "200  0.000010  0.000050  0.356606 -0.000060  0.351433  0.351063  0.346426   \n",
      "201  0.000065  0.000025  0.356893  0.000035  0.351445  0.351060  0.346424   \n",
      "202  0.000000  0.000005  0.357133  0.000015  0.351502  0.351082  0.346433   \n",
      "203  0.000030  0.000000  0.358138  0.000095  0.351587  0.351141  0.346448   \n",
      "\n",
      "     y_result  \n",
      "199         0  \n",
      "200         0  \n",
      "201         0  \n",
      "202         0  \n",
      "203         0  \n"
     ]
    },
    {
     "data": {
      "image/png": "[encoded data removed]",
      "text/plain": [
       "<Figure size 432x288 with 2 Axes>"
      ]
     },
     "metadata": {},
     "output_type": "display_data"
    }
   ],
   "source": [
    "plot_stock(df)"
   ]
  },
  {
   "cell_type": "code",
   "execution_count": 7,
   "metadata": {},
   "outputs": [
    {
     "data": {
      "image/png": "[encoded data removed]",
      "text/plain": [
       "<Figure size 432x288 with 2 Axes>"
      ]
     },
     "metadata": {},
     "output_type": "display_data"
    }
   ],
   "source": [
    "corr = df.corr()\n",
    "ax = sns.heatmap(corr, cmap=\"YlGnBu\")\n",
    "plt.show()"
   ]
  },
  {
   "cell_type": "code",
   "execution_count": 8,
   "metadata": {
    "collapsed": true
   },
   "outputs": [],
   "source": [
    "def load_data(stock, seq_len):\n",
    "    print (\"Amount of features = {}\".format(amount_of_features))\n",
    "    data = stock.as_matrix()\n",
    "    sequence_length = seq_len + 1 # index starting from 0\n",
    "    x_result = []\n",
    "    y_result = []\n",
    "    for index in range(seq_len, len(data) ): # maxmimum date = lastest date - sequence length\n",
    "        x_result.append(data[index-seq_len: index,:-1]) # index : index + 22days\n",
    "        y_result.append(data[index ,amount_of_features]);\n",
    "\n",
    "    #print('---', data[0])\n",
    "    #print('---', x_result[0])\n",
    "    #print('---', y_result[0])\n",
    "    x_result = np.array(x_result)\n",
    "    y_result = np.array(y_result)\n",
    "    row = round(0.6 * y_result.shape[0]) # 80% split\n",
    "    print (\"Amount of training data = {}\".format(0.9 * x_result.shape[0]))\n",
    "    print (\"Amount of testing data = {}\".format(0.1 * y_result.shape[0]))\n",
    "     \n",
    "    X_train = x_result[:int(row), :] # 90% date\n",
    "    y_train = y_result[:int(row)] # 90% date\n",
    "        \n",
    "\n",
    "    X_test = x_result[int(row):, :]\n",
    "    y_test = y_result[int(row):]\n",
    "    # filter for 1 and -1 for validation only\n",
    "    X_test = X_test[y_test[:]!=0,:]\n",
    "    y_test = y_test[y_test[:]!=0]\n",
    "    #print(result.shape[0], len(y_result), int(row), y_result[int(row):])\n",
    "    #X_train = np.reshape(X_train, (X_train.shape[0], X_train.shape[1], amount_of_features-1))\n",
    "    #X_test = np.reshape(X_test, (X_test.shape[0], X_test.shape[1], amount_of_features-1))\n",
    "    \n",
    "    return [X_train, y_train, X_test, y_test]"
   ]
  },
  {
   "cell_type": "code",
   "execution_count": 9,
   "metadata": {},
   "outputs": [
    {
     "name": "stdout",
     "output_type": "stream",
     "text": [
      "Amount of features = 7\n",
      "Amount of training data = 261918.9\n",
      "Amount of testing data = 29102.100000000002\n",
      "(174613, 120, 7) (174613,) (70626, 120, 7) (70626,)\n",
      "7\n"
     ]
    }
   ],
   "source": [
    "lb = preprocessing.LabelBinarizer()\n",
    "lb.fit([1, 0, -1])\n",
    "\n",
    "X_tr, lab_tr, X_vld, lab_vld = load_data(df, seq_len)\n",
    "y_tr = lb.transform(lab_tr)\n",
    "y_vld = lb.transform(lab_vld)\n",
    "print(X_tr.shape, lab_tr.shape, X_vld.shape, lab_vld.shape)\n",
    "print(amount_of_features)"
   ]
  },
  {
   "cell_type": "code",
   "execution_count": 10,
   "metadata": {
    "collapsed": true
   },
   "outputs": [],
   "source": [
    "def get_batches(X, y, batch_size = 100):\n",
    "\t\"\"\" Return a generator for batches \"\"\"\n",
    "\tn_batches = len(X) // batch_size\n",
    "\tX, y = X[:n_batches*batch_size], y[:n_batches*batch_size]\n",
    "\n",
    "\t# Loop over batches and yield\n",
    "\tfor b in range(0, len(X), batch_size):\n",
    "\t\tyield X[b:b+batch_size], y[b:b+batch_size]"
   ]
  },
  {
   "cell_type": "code",
   "execution_count": 11,
   "metadata": {
    "collapsed": true
   },
   "outputs": [],
   "source": [
    "graph = tf.Graph()\n",
    "n_channels = amount_of_features\n",
    "n_classes = lb.transform([1]).shape[1]\n",
    "# Construct placeholders\n",
    "with graph.as_default():\n",
    "    inputs_ = tf.placeholder(tf.float32, [None, seq_len, n_channels], name = 'inputs')\n",
    "    labels_ = tf.placeholder(tf.float32, [None, n_classes], name = 'labels')\n",
    "    keep_prob_ = tf.placeholder(tf.float32, name = 'keep')\n",
    "    learning_rate_ = tf.placeholder(tf.float32, name = 'learning_rate')"
   ]
  },
  {
   "cell_type": "markdown",
   "metadata": {},
   "source": [
    "Construct inputs to LSTM"
   ]
  },
  {
   "cell_type": "code",
   "execution_count": 12,
   "metadata": {
    "collapsed": true
   },
   "outputs": [],
   "source": [
    "with graph.as_default():\n",
    "    # Construct the LSTM inputs and LSTM cells\n",
    "    lstm_in = tf.transpose(inputs_, [1,0,2]) # reshape into (seq_len, N, channels)\n",
    "    lstm_in = tf.reshape(lstm_in, [-1, n_channels]) # Now (seq_len*N, n_channels)\n",
    "    \n",
    "    # To cells\n",
    "    lstm_in = tf.layers.dense(lstm_in, lstm_size, activation=None) # or tf.nn.relu, tf.nn.sigmoid, tf.nn.tanh?\n",
    "    \n",
    "    # Open up the tensor into a list of seq_len pieces\n",
    "    lstm_in = tf.split(lstm_in, seq_len, 0)\n",
    "    \n",
    "    # Add LSTM layers\n",
    "    lstm = tf.contrib.rnn.BasicLSTMCell(lstm_size)\n",
    "    drop = tf.contrib.rnn.DropoutWrapper(lstm, output_keep_prob=keep_prob_)\n",
    "    cell = tf.contrib.rnn.MultiRNNCell([drop] * lstm_layers)\n",
    "    initial_state = cell.zero_state(batch_size, tf.float32)"
   ]
  },
  {
   "cell_type": "markdown",
   "metadata": {},
   "source": [
    "Define forward pass, cost function and optimizer:"
   ]
  },
  {
   "cell_type": "code",
   "execution_count": 13,
   "metadata": {
    "collapsed": true
   },
   "outputs": [],
   "source": [
    "with graph.as_default():\n",
    "    outputs, final_state = tf.contrib.rnn.static_rnn(cell, lstm_in, dtype=tf.float32,\n",
    "                                                     initial_state = initial_state)\n",
    "    \n",
    "    # We only need the last output tensor to pass into a classifier\n",
    "    logits = tf.layers.dense(outputs[-1], n_classes, name='logits')\n",
    "    \n",
    "    # Cost function and optimizer\n",
    "    cost = tf.reduce_mean(tf.nn.softmax_cross_entropy_with_logits(logits=logits, labels=labels_))\n",
    "    #optimizer = tf.train.AdamOptimizer(learning_rate_).minimize(cost) # No grad clipping\n",
    "    \n",
    "    # Grad clipping\n",
    "    train_op = tf.train.AdamOptimizer(learning_rate_)\n",
    "\n",
    "    gradients = train_op.compute_gradients(cost)\n",
    "    capped_gradients = [(tf.clip_by_value(grad, -1., 1.), var) for grad, var in gradients]\n",
    "    optimizer = train_op.apply_gradients(capped_gradients)\n",
    "    \n",
    "    # Accuracy\n",
    "    correct_pred = tf.equal(tf.argmax(logits, 1), tf.argmax(labels_, 1))\n",
    "    accuracy = tf.reduce_mean(tf.cast(correct_pred, tf.float32), name='accuracy')"
   ]
  },
  {
   "cell_type": "code",
   "execution_count": 14,
   "metadata": {
    "collapsed": true
   },
   "outputs": [],
   "source": [
    "if (os.path.exists('checkpoints') == False):\n",
    "    !mkdir checkpoints"
   ]
  },
  {
   "cell_type": "code",
   "execution_count": 15,
   "metadata": {
    "scrolled": true
   },
   "outputs": [
    {
     "name": "stdout",
     "output_type": "stream",
     "text": [
      "Epoch: 0/20 Iteration: 5 Train loss: 1.082433 Train acc: 0.407227\n",
      "Epoch: 0/20 Iteration: 10 Train loss: 1.101060 Train acc: 0.300781\n",
      "Epoch: 0/20 Iteration: 15 Train loss: 1.097355 Train acc: 0.367188\n",
      "Epoch: 0/20 Iteration: 20 Train loss: 1.092498 Train acc: 0.408691\n",
      "Epoch: 0/20 Iteration: 25 Train loss: 1.109976 Train acc: 0.312988\n",
      "Epoch: 0/20 Iteration: 30 Train loss: 1.060439 Train acc: 0.467773\n",
      "Epoch: 0/20 Iteration: 35 Train loss: 0.973854 Train acc: 0.579102\n",
      "Epoch: 0/20 Iteration: 40 Train loss: 0.998494 Train acc: 0.584961\n",
      "Epoch: 0/20 Iteration: 45 Train loss: 1.122102 Train acc: 0.278320\n",
      "Epoch: 0/20 Iteration: 50 Train loss: 1.053430 Train acc: 0.631836\n",
      "Epoch: 0/20 Iteration: 55 Train loss: 1.062987 Train acc: 0.494629\n",
      "Epoch: 0/20 Iteration: 60 Train loss: 1.112556 Train acc: 0.400879\n",
      "Epoch: 0/20 Iteration: 65 Train loss: 1.260636 Train acc: 0.204590\n",
      "Epoch: 0/20 Iteration: 70 Train loss: 1.103070 Train acc: 0.280273\n",
      "Epoch: 0/20 Iteration: 75 Train loss: 1.068343 Train acc: 0.429199\n",
      "Epoch: 0/20 Iteration: 80 Train loss: 1.235652 Train acc: 0.299316\n",
      "Epoch: 0/20 Iteration: 85 Train loss: 1.143037 Train acc: 0.328613\n",
      "Epoch: 1/20 Iteration: 90 Train loss: 1.111467 Train acc: 0.218262\n",
      "Epoch: 1/20 Iteration: 95 Train loss: 1.101745 Train acc: 0.348633\n",
      "Epoch: 1/20 Iteration: 100 Train loss: 1.098615 Train acc: 0.355469\n",
      "Epoch: 1/20 Iteration: 105 Train loss: 1.089141 Train acc: 0.408691\n",
      "Epoch: 1/20 Iteration: 110 Train loss: 1.110111 Train acc: 0.312988\n",
      "Epoch: 1/20 Iteration: 115 Train loss: 1.075295 Train acc: 0.467773\n",
      "Epoch: 1/20 Iteration: 120 Train loss: 1.027369 Train acc: 0.579102\n",
      "Epoch: 1/20 Iteration: 125 Train loss: 0.987706 Train acc: 0.584961\n",
      "Epoch: 1/20 Iteration: 130 Train loss: 1.177009 Train acc: 0.278320\n",
      "Epoch: 1/20 Iteration: 135 Train loss: 1.021981 Train acc: 0.631836\n",
      "Epoch: 1/20 Iteration: 140 Train loss: 1.058239 Train acc: 0.494629\n",
      "Epoch: 1/20 Iteration: 145 Train loss: 1.093549 Train acc: 0.400879\n",
      "Epoch: 1/20 Iteration: 150 Train loss: 1.207890 Train acc: 0.204590\n",
      "Epoch: 1/20 Iteration: 155 Train loss: 1.122413 Train acc: 0.279785\n",
      "Epoch: 1/20 Iteration: 160 Train loss: 1.118657 Train acc: 0.148438\n",
      "Epoch: 1/20 Iteration: 165 Train loss: 1.103486 Train acc: 0.314941\n",
      "Epoch: 1/20 Iteration: 170 Train loss: 1.115127 Train acc: 0.306641\n",
      "Epoch: 2/20 Iteration: 175 Train loss: 1.129844 Train acc: 0.204102\n",
      "Epoch: 2/20 Iteration: 180 Train loss: 1.118152 Train acc: 0.199219\n",
      "Epoch: 2/20 Iteration: 185 Train loss: 1.098973 Train acc: 0.314453\n",
      "Epoch: 2/20 Iteration: 190 Train loss: 1.102224 Train acc: 0.292480\n",
      "Epoch: 2/20 Iteration: 195 Train loss: 1.101330 Train acc: 0.303223\n",
      "Epoch: 2/20 Iteration: 200 Train loss: 1.089489 Train acc: 0.431152\n",
      "Epoch: 2/20 Iteration: 205 Train loss: 1.075392 Train acc: 0.573242\n",
      "Epoch: 2/20 Iteration: 210 Train loss: 1.060576 Train acc: 0.585449\n",
      "Epoch: 2/20 Iteration: 215 Train loss: 1.128164 Train acc: 0.277832\n",
      "Epoch: 2/20 Iteration: 220 Train loss: 1.017235 Train acc: 0.631836\n",
      "Epoch: 2/20 Iteration: 225 Train loss: 1.047714 Train acc: 0.494629\n",
      "Epoch: 2/20 Iteration: 230 Train loss: 1.242629 Train acc: 0.401367\n",
      "Epoch: 2/20 Iteration: 235 Train loss: 1.170428 Train acc: 0.204590\n",
      "Epoch: 2/20 Iteration: 240 Train loss: 1.114455 Train acc: 0.282715\n",
      "Epoch: 2/20 Iteration: 245 Train loss: 1.095311 Train acc: 0.402344\n",
      "Epoch: 2/20 Iteration: 250 Train loss: 1.106179 Train acc: 0.343262\n",
      "Epoch: 2/20 Iteration: 255 Train loss: 1.125592 Train acc: 0.313965\n",
      "Epoch: 3/20 Iteration: 260 Train loss: 1.133060 Train acc: 0.237793\n",
      "Epoch: 3/20 Iteration: 265 Train loss: 1.111098 Train acc: 0.291016\n",
      "Epoch: 3/20 Iteration: 270 Train loss: 1.102525 Train acc: 0.279785\n",
      "Epoch: 3/20 Iteration: 275 Train loss: 1.098418 Train acc: 0.349609\n",
      "Epoch: 3/20 Iteration: 280 Train loss: 1.112229 Train acc: 0.281250\n",
      "Epoch: 3/20 Iteration: 285 Train loss: 1.083330 Train acc: 0.463379\n",
      "Epoch: 3/20 Iteration: 290 Train loss: 1.063989 Train acc: 0.578125\n",
      "Epoch: 3/20 Iteration: 295 Train loss: 1.054695 Train acc: 0.584961\n",
      "Epoch: 3/20 Iteration: 300 Train loss: 1.108543 Train acc: 0.278320\n",
      "Epoch: 3/20 Iteration: 305 Train loss: 1.033096 Train acc: 0.631836\n",
      "Epoch: 3/20 Iteration: 310 Train loss: 1.056336 Train acc: 0.494629\n",
      "Epoch: 3/20 Iteration: 315 Train loss: 1.116194 Train acc: 0.400879\n",
      "Epoch: 3/20 Iteration: 320 Train loss: 1.236013 Train acc: 0.204590\n",
      "Epoch: 3/20 Iteration: 325 Train loss: 1.119825 Train acc: 0.280273\n",
      "Epoch: 3/20 Iteration: 330 Train loss: 1.081538 Train acc: 0.464355\n",
      "Epoch: 3/20 Iteration: 335 Train loss: 1.119837 Train acc: 0.343750\n",
      "Epoch: 3/20 Iteration: 340 Train loss: 1.139499 Train acc: 0.327637\n",
      "Epoch: 4/20 Iteration: 345 Train loss: 1.124641 Train acc: 0.254395\n",
      "Epoch: 4/20 Iteration: 350 Train loss: 1.099339 Train acc: 0.387695\n",
      "Epoch: 4/20 Iteration: 355 Train loss: 1.103967 Train acc: 0.328613\n",
      "Epoch: 4/20 Iteration: 360 Train loss: 1.093140 Train acc: 0.307617\n",
      "Epoch: 4/20 Iteration: 365 Train loss: 1.117360 Train acc: 0.313965\n",
      "Epoch: 4/20 Iteration: 370 Train loss: 1.073955 Train acc: 0.467773\n",
      "Epoch: 4/20 Iteration: 375 Train loss: 1.044897 Train acc: 0.579102\n",
      "Epoch: 4/20 Iteration: 380 Train loss: 1.036489 Train acc: 0.584961\n",
      "Epoch: 4/20 Iteration: 385 Train loss: 1.113917 Train acc: 0.278320\n",
      "Epoch: 4/20 Iteration: 390 Train loss: 1.015161 Train acc: 0.631836\n",
      "Epoch: 4/20 Iteration: 395 Train loss: 1.051391 Train acc: 0.494629\n",
      "Epoch: 4/20 Iteration: 400 Train loss: 1.109488 Train acc: 0.400879\n",
      "Epoch: 4/20 Iteration: 405 Train loss: 1.213310 Train acc: 0.204590\n",
      "Epoch: 4/20 Iteration: 410 Train loss: 1.112689 Train acc: 0.244629\n",
      "Epoch: 4/20 Iteration: 415 Train loss: 1.047142 Train acc: 0.461914\n",
      "Epoch: 4/20 Iteration: 420 Train loss: 1.175092 Train acc: 0.325195\n",
      "Epoch: 4/20 Iteration: 425 Train loss: 1.177565 Train acc: 0.269531\n",
      "Epoch: 5/20 Iteration: 430 Train loss: 1.125640 Train acc: 0.275879\n",
      "Epoch: 5/20 Iteration: 435 Train loss: 1.096122 Train acc: 0.385742\n",
      "Epoch: 5/20 Iteration: 440 Train loss: 1.102882 Train acc: 0.348633\n",
      "Epoch: 5/20 Iteration: 445 Train loss: 1.093132 Train acc: 0.399414\n",
      "Epoch: 5/20 Iteration: 450 Train loss: 1.116804 Train acc: 0.312988\n",
      "Epoch: 5/20 Iteration: 455 Train loss: 1.069175 Train acc: 0.467773\n",
      "Epoch: 5/20 Iteration: 460 Train loss: 1.032559 Train acc: 0.579102\n",
      "Epoch: 5/20 Iteration: 465 Train loss: 1.030723 Train acc: 0.584961\n",
      "Epoch: 5/20 Iteration: 470 Train loss: 1.110990 Train acc: 0.278320\n",
      "Epoch: 5/20 Iteration: 475 Train loss: 1.012949 Train acc: 0.631836\n",
      "Epoch: 5/20 Iteration: 480 Train loss: 1.054410 Train acc: 0.494629\n",
      "Epoch: 5/20 Iteration: 485 Train loss: 1.098644 Train acc: 0.400879\n",
      "Epoch: 5/20 Iteration: 490 Train loss: 1.182604 Train acc: 0.204590\n",
      "Epoch: 5/20 Iteration: 495 Train loss: 1.109663 Train acc: 0.278320\n",
      "Epoch: 5/20 Iteration: 500 Train loss: 1.070699 Train acc: 0.462891\n",
      "Epoch: 5/20 Iteration: 505 Train loss: 1.133070 Train acc: 0.340820\n",
      "Epoch: 5/20 Iteration: 510 Train loss: 1.164293 Train acc: 0.335938\n",
      "Epoch: 6/20 Iteration: 515 Train loss: 1.136237 Train acc: 0.210938\n",
      "Epoch: 6/20 Iteration: 520 Train loss: 1.104515 Train acc: 0.318848\n",
      "Epoch: 6/20 Iteration: 525 Train loss: 1.107181 Train acc: 0.348633\n",
      "Epoch: 6/20 Iteration: 530 Train loss: 1.094864 Train acc: 0.410156\n",
      "Epoch: 6/20 Iteration: 535 Train loss: 1.123962 Train acc: 0.312988\n",
      "Epoch: 6/20 Iteration: 540 Train loss: 1.065300 Train acc: 0.467773\n",
      "Epoch: 6/20 Iteration: 545 Train loss: 1.005032 Train acc: 0.579102\n",
      "Epoch: 6/20 Iteration: 550 Train loss: 1.012028 Train acc: 0.584961\n",
      "Epoch: 6/20 Iteration: 555 Train loss: 1.114610 Train acc: 0.278320\n",
      "Epoch: 6/20 Iteration: 560 Train loss: 0.993284 Train acc: 0.631836\n",
      "Epoch: 6/20 Iteration: 565 Train loss: 1.056986 Train acc: 0.494629\n",
      "Epoch: 6/20 Iteration: 570 Train loss: 1.092918 Train acc: 0.400879\n",
      "Epoch: 6/20 Iteration: 575 Train loss: 1.150231 Train acc: 0.204590\n",
      "Epoch: 6/20 Iteration: 580 Train loss: 1.100907 Train acc: 0.296875\n",
      "Epoch: 6/20 Iteration: 585 Train loss: 1.041481 Train acc: 0.460449\n",
      "Epoch: 6/20 Iteration: 590 Train loss: 1.175527 Train acc: 0.336426\n",
      "Epoch: 6/20 Iteration: 595 Train loss: 1.192843 Train acc: 0.301270\n",
      "Epoch: 7/20 Iteration: 600 Train loss: 1.119678 Train acc: 0.273438\n",
      "Epoch: 7/20 Iteration: 605 Train loss: 1.094664 Train acc: 0.379395\n"
     ]
    },
    {
     "name": "stdout",
     "output_type": "stream",
     "text": [
      "Epoch: 7/20 Iteration: 610 Train loss: 1.137763 Train acc: 0.348633\n",
      "Epoch: 7/20 Iteration: 615 Train loss: 1.095013 Train acc: 0.410156\n",
      "Epoch: 7/20 Iteration: 620 Train loss: 1.130426 Train acc: 0.312988\n",
      "Epoch: 7/20 Iteration: 625 Train loss: 1.071057 Train acc: 0.467773\n",
      "Epoch: 7/20 Iteration: 630 Train loss: 1.004825 Train acc: 0.579102\n",
      "Epoch: 7/20 Iteration: 635 Train loss: 1.022259 Train acc: 0.584961\n",
      "Epoch: 7/20 Iteration: 640 Train loss: 1.109632 Train acc: 0.278320\n",
      "Epoch: 7/20 Iteration: 645 Train loss: 1.012568 Train acc: 0.631836\n",
      "Epoch: 7/20 Iteration: 650 Train loss: 1.065380 Train acc: 0.494629\n",
      "Epoch: 7/20 Iteration: 655 Train loss: 1.092716 Train acc: 0.400879\n",
      "Epoch: 7/20 Iteration: 660 Train loss: 1.125339 Train acc: 0.204590\n",
      "Epoch: 7/20 Iteration: 665 Train loss: 1.099540 Train acc: 0.303711\n",
      "Epoch: 7/20 Iteration: 670 Train loss: 1.074133 Train acc: 0.452148\n",
      "Epoch: 7/20 Iteration: 675 Train loss: 1.139096 Train acc: 0.335449\n",
      "Epoch: 7/20 Iteration: 680 Train loss: 1.165627 Train acc: 0.319824\n",
      "Epoch: 8/20 Iteration: 685 Train loss: 1.101592 Train acc: 0.319336\n",
      "Epoch: 8/20 Iteration: 690 Train loss: 1.093604 Train acc: 0.418457\n",
      "Epoch: 8/20 Iteration: 695 Train loss: 1.146203 Train acc: 0.348633\n",
      "Epoch: 8/20 Iteration: 700 Train loss: 1.095144 Train acc: 0.410156\n",
      "Epoch: 8/20 Iteration: 705 Train loss: 1.137817 Train acc: 0.312988\n",
      "Epoch: 8/20 Iteration: 710 Train loss: 1.068542 Train acc: 0.467773\n",
      "Epoch: 8/20 Iteration: 715 Train loss: 0.996728 Train acc: 0.579102\n",
      "Epoch: 8/20 Iteration: 720 Train loss: 1.015429 Train acc: 0.584961\n",
      "Epoch: 8/20 Iteration: 725 Train loss: 1.108289 Train acc: 0.278320\n",
      "Epoch: 8/20 Iteration: 730 Train loss: 1.005806 Train acc: 0.631836\n",
      "Epoch: 8/20 Iteration: 735 Train loss: 1.066777 Train acc: 0.494629\n",
      "Epoch: 8/20 Iteration: 740 Train loss: 1.092963 Train acc: 0.408203\n",
      "Epoch: 8/20 Iteration: 745 Train loss: 1.120546 Train acc: 0.206543\n",
      "Epoch: 8/20 Iteration: 750 Train loss: 1.101319 Train acc: 0.303223\n",
      "Epoch: 8/20 Iteration: 755 Train loss: 1.036413 Train acc: 0.462891\n",
      "Epoch: 8/20 Iteration: 760 Train loss: 1.206439 Train acc: 0.322266\n",
      "Epoch: 8/20 Iteration: 765 Train loss: 1.179874 Train acc: 0.272461\n",
      "Epoch: 9/20 Iteration: 770 Train loss: 1.078502 Train acc: 0.501953\n",
      "Epoch: 9/20 Iteration: 775 Train loss: 1.087142 Train acc: 0.399902\n",
      "Epoch: 9/20 Iteration: 780 Train loss: 1.142687 Train acc: 0.348633\n",
      "Epoch: 9/20 Iteration: 785 Train loss: 1.094153 Train acc: 0.410156\n",
      "Epoch: 9/20 Iteration: 790 Train loss: 1.134629 Train acc: 0.312988\n",
      "Epoch: 9/20 Iteration: 795 Train loss: 1.067160 Train acc: 0.467773\n",
      "Epoch: 9/20 Iteration: 800 Train loss: 0.997213 Train acc: 0.579102\n",
      "Epoch: 9/20 Iteration: 805 Train loss: 1.012549 Train acc: 0.584961\n",
      "Epoch: 9/20 Iteration: 810 Train loss: 1.110645 Train acc: 0.278320\n",
      "Epoch: 9/20 Iteration: 815 Train loss: 1.003536 Train acc: 0.631836\n",
      "Epoch: 9/20 Iteration: 820 Train loss: 1.064758 Train acc: 0.494629\n",
      "Epoch: 9/20 Iteration: 825 Train loss: 1.094178 Train acc: 0.399902\n",
      "Epoch: 9/20 Iteration: 830 Train loss: 1.117055 Train acc: 0.209473\n",
      "Epoch: 9/20 Iteration: 835 Train loss: 1.100280 Train acc: 0.305176\n",
      "Epoch: 9/20 Iteration: 840 Train loss: 1.057763 Train acc: 0.456543\n",
      "Epoch: 9/20 Iteration: 845 Train loss: 1.156964 Train acc: 0.335938\n",
      "Epoch: 9/20 Iteration: 850 Train loss: 1.173822 Train acc: 0.308105\n",
      "Epoch: 10/20 Iteration: 855 Train loss: 1.085915 Train acc: 0.469238\n",
      "Epoch: 10/20 Iteration: 860 Train loss: 1.088912 Train acc: 0.400879\n",
      "Epoch: 10/20 Iteration: 865 Train loss: 1.155865 Train acc: 0.348633\n",
      "Epoch: 10/20 Iteration: 870 Train loss: 1.095420 Train acc: 0.410156\n",
      "Epoch: 10/20 Iteration: 875 Train loss: 1.138914 Train acc: 0.312988\n",
      "Epoch: 10/20 Iteration: 880 Train loss: 1.067474 Train acc: 0.467773\n",
      "Epoch: 10/20 Iteration: 885 Train loss: 0.997168 Train acc: 0.579102\n",
      "Epoch: 10/20 Iteration: 890 Train loss: 1.013868 Train acc: 0.584961\n",
      "Epoch: 10/20 Iteration: 895 Train loss: 1.108349 Train acc: 0.278320\n",
      "Epoch: 10/20 Iteration: 900 Train loss: 1.003129 Train acc: 0.631836\n",
      "Epoch: 10/20 Iteration: 905 Train loss: 1.066885 Train acc: 0.494629\n",
      "Epoch: 10/20 Iteration: 910 Train loss: 1.095780 Train acc: 0.401855\n",
      "Epoch: 10/20 Iteration: 915 Train loss: 1.113562 Train acc: 0.230469\n",
      "Epoch: 10/20 Iteration: 920 Train loss: 1.101117 Train acc: 0.288086\n",
      "Epoch: 10/20 Iteration: 925 Train loss: 1.034864 Train acc: 0.453125\n",
      "Epoch: 10/20 Iteration: 930 Train loss: 1.195034 Train acc: 0.327637\n",
      "Epoch: 10/20 Iteration: 935 Train loss: 1.180121 Train acc: 0.275879\n",
      "Epoch: 11/20 Iteration: 940 Train loss: 1.076293 Train acc: 0.502441\n",
      "Epoch: 11/20 Iteration: 945 Train loss: 1.087041 Train acc: 0.399902\n",
      "Epoch: 11/20 Iteration: 950 Train loss: 1.147049 Train acc: 0.348633\n",
      "Epoch: 11/20 Iteration: 955 Train loss: 1.094471 Train acc: 0.410156\n",
      "Epoch: 11/20 Iteration: 960 Train loss: 1.139680 Train acc: 0.312988\n",
      "Epoch: 11/20 Iteration: 965 Train loss: 1.064918 Train acc: 0.467773\n",
      "Epoch: 11/20 Iteration: 970 Train loss: 0.998394 Train acc: 0.579102\n",
      "Epoch: 11/20 Iteration: 975 Train loss: 1.007375 Train acc: 0.584961\n",
      "Epoch: 11/20 Iteration: 980 Train loss: 1.113042 Train acc: 0.278320\n",
      "Epoch: 11/20 Iteration: 985 Train loss: 0.993991 Train acc: 0.631836\n",
      "Epoch: 11/20 Iteration: 990 Train loss: 1.064331 Train acc: 0.494629\n",
      "Epoch: 11/20 Iteration: 995 Train loss: 1.097390 Train acc: 0.379395\n",
      "Epoch: 11/20 Iteration: 1000 Train loss: 1.113902 Train acc: 0.237793\n",
      "Epoch: 11/20 Iteration: 1005 Train loss: 1.098676 Train acc: 0.289551\n",
      "Epoch: 11/20 Iteration: 1010 Train loss: 1.038984 Train acc: 0.464844\n",
      "Epoch: 11/20 Iteration: 1015 Train loss: 1.179674 Train acc: 0.327148\n",
      "Epoch: 11/20 Iteration: 1020 Train loss: 1.187832 Train acc: 0.277832\n",
      "Epoch: 12/20 Iteration: 1025 Train loss: 1.074869 Train acc: 0.501465\n",
      "Epoch: 12/20 Iteration: 1030 Train loss: 1.089744 Train acc: 0.399902\n",
      "Epoch: 12/20 Iteration: 1035 Train loss: 1.151999 Train acc: 0.348633\n",
      "Epoch: 12/20 Iteration: 1040 Train loss: 1.095292 Train acc: 0.410156\n",
      "Epoch: 12/20 Iteration: 1045 Train loss: 1.140146 Train acc: 0.312988\n",
      "Epoch: 12/20 Iteration: 1050 Train loss: 1.060951 Train acc: 0.467773\n",
      "Epoch: 12/20 Iteration: 1055 Train loss: 1.000019 Train acc: 0.579102\n",
      "Epoch: 12/20 Iteration: 1060 Train loss: 1.005229 Train acc: 0.584961\n",
      "Epoch: 12/20 Iteration: 1065 Train loss: 1.111354 Train acc: 0.278320\n",
      "Epoch: 12/20 Iteration: 1070 Train loss: 0.990074 Train acc: 0.631836\n",
      "Epoch: 12/20 Iteration: 1075 Train loss: 1.064623 Train acc: 0.494629\n",
      "Epoch: 12/20 Iteration: 1080 Train loss: 1.100138 Train acc: 0.354492\n",
      "Epoch: 12/20 Iteration: 1085 Train loss: 1.111677 Train acc: 0.253418\n",
      "Epoch: 12/20 Iteration: 1090 Train loss: 1.098784 Train acc: 0.303711\n",
      "Epoch: 12/20 Iteration: 1095 Train loss: 1.033109 Train acc: 0.451172\n",
      "Epoch: 12/20 Iteration: 1100 Train loss: 1.187529 Train acc: 0.315918\n",
      "Epoch: 12/20 Iteration: 1105 Train loss: 1.190821 Train acc: 0.250000\n",
      "Epoch: 13/20 Iteration: 1110 Train loss: 1.068168 Train acc: 0.503418\n",
      "Epoch: 13/20 Iteration: 1115 Train loss: 1.090334 Train acc: 0.400879\n",
      "Epoch: 13/20 Iteration: 1120 Train loss: 1.152219 Train acc: 0.348633\n",
      "Epoch: 13/20 Iteration: 1125 Train loss: 1.095725 Train acc: 0.410156\n",
      "Epoch: 13/20 Iteration: 1130 Train loss: 1.140030 Train acc: 0.312988\n",
      "Epoch: 13/20 Iteration: 1135 Train loss: 1.059780 Train acc: 0.467773\n",
      "Epoch: 13/20 Iteration: 1140 Train loss: 1.002096 Train acc: 0.579102\n",
      "Epoch: 13/20 Iteration: 1145 Train loss: 1.004272 Train acc: 0.584961\n",
      "Epoch: 13/20 Iteration: 1150 Train loss: 1.109759 Train acc: 0.278320\n",
      "Epoch: 13/20 Iteration: 1155 Train loss: 0.985176 Train acc: 0.631836\n",
      "Epoch: 13/20 Iteration: 1160 Train loss: 1.066345 Train acc: 0.494629\n",
      "Epoch: 13/20 Iteration: 1165 Train loss: 1.103665 Train acc: 0.335449\n",
      "Epoch: 13/20 Iteration: 1170 Train loss: 1.107028 Train acc: 0.304688\n",
      "Epoch: 13/20 Iteration: 1175 Train loss: 1.096764 Train acc: 0.334961\n",
      "Epoch: 13/20 Iteration: 1180 Train loss: 1.035273 Train acc: 0.453125\n",
      "Epoch: 13/20 Iteration: 1185 Train loss: 1.175297 Train acc: 0.319336\n",
      "Epoch: 13/20 Iteration: 1190 Train loss: 1.190901 Train acc: 0.270508\n",
      "Epoch: 14/20 Iteration: 1195 Train loss: 1.063411 Train acc: 0.503418\n",
      "Epoch: 14/20 Iteration: 1200 Train loss: 1.091266 Train acc: 0.399414\n"
     ]
    },
    {
     "name": "stdout",
     "output_type": "stream",
     "text": [
      "Epoch: 14/20 Iteration: 1205 Train loss: 1.155226 Train acc: 0.348633\n",
      "Epoch: 14/20 Iteration: 1210 Train loss: 1.097699 Train acc: 0.410156\n",
      "Epoch: 14/20 Iteration: 1215 Train loss: 1.140068 Train acc: 0.312988\n",
      "Epoch: 14/20 Iteration: 1220 Train loss: 1.060327 Train acc: 0.467773\n",
      "Epoch: 14/20 Iteration: 1225 Train loss: 1.001267 Train acc: 0.579102\n",
      "Epoch: 14/20 Iteration: 1230 Train loss: 1.004393 Train acc: 0.584961\n",
      "Epoch: 14/20 Iteration: 1235 Train loss: 1.109970 Train acc: 0.278809\n",
      "Epoch: 14/20 Iteration: 1240 Train loss: 0.990138 Train acc: 0.631836\n",
      "Epoch: 14/20 Iteration: 1245 Train loss: 1.066951 Train acc: 0.494629\n",
      "Epoch: 14/20 Iteration: 1250 Train loss: 1.105939 Train acc: 0.337402\n",
      "Epoch: 14/20 Iteration: 1255 Train loss: 1.106302 Train acc: 0.286621\n",
      "Epoch: 14/20 Iteration: 1260 Train loss: 1.097642 Train acc: 0.322266\n",
      "Epoch: 14/20 Iteration: 1265 Train loss: 1.032955 Train acc: 0.459473\n",
      "Epoch: 14/20 Iteration: 1270 Train loss: 1.181400 Train acc: 0.323730\n",
      "Epoch: 14/20 Iteration: 1275 Train loss: 1.187231 Train acc: 0.271484\n",
      "Epoch: 15/20 Iteration: 1280 Train loss: 1.062900 Train acc: 0.503418\n",
      "Epoch: 15/20 Iteration: 1285 Train loss: 1.091125 Train acc: 0.399902\n",
      "Epoch: 15/20 Iteration: 1290 Train loss: 1.147862 Train acc: 0.348633\n",
      "Epoch: 15/20 Iteration: 1295 Train loss: 1.095013 Train acc: 0.410156\n",
      "Epoch: 15/20 Iteration: 1300 Train loss: 1.142862 Train acc: 0.312988\n",
      "Epoch: 15/20 Iteration: 1305 Train loss: 1.059664 Train acc: 0.467773\n",
      "Epoch: 15/20 Iteration: 1310 Train loss: 1.002340 Train acc: 0.579102\n",
      "Epoch: 15/20 Iteration: 1315 Train loss: 1.000533 Train acc: 0.584961\n",
      "Epoch: 15/20 Iteration: 1320 Train loss: 1.113256 Train acc: 0.278320\n",
      "Epoch: 15/20 Iteration: 1325 Train loss: 0.982353 Train acc: 0.631836\n",
      "Epoch: 15/20 Iteration: 1330 Train loss: 1.065917 Train acc: 0.494629\n",
      "Epoch: 15/20 Iteration: 1335 Train loss: 1.106570 Train acc: 0.333984\n",
      "Epoch: 15/20 Iteration: 1340 Train loss: 1.105227 Train acc: 0.315430\n",
      "Epoch: 15/20 Iteration: 1345 Train loss: 1.096215 Train acc: 0.323242\n",
      "Epoch: 15/20 Iteration: 1350 Train loss: 1.030040 Train acc: 0.448730\n",
      "Epoch: 15/20 Iteration: 1355 Train loss: 1.182210 Train acc: 0.314453\n",
      "Epoch: 15/20 Iteration: 1360 Train loss: 1.184787 Train acc: 0.258301\n",
      "Epoch: 16/20 Iteration: 1365 Train loss: 1.057015 Train acc: 0.503418\n",
      "Epoch: 16/20 Iteration: 1370 Train loss: 1.091451 Train acc: 0.399902\n",
      "Epoch: 16/20 Iteration: 1375 Train loss: 1.148757 Train acc: 0.348633\n",
      "Epoch: 16/20 Iteration: 1380 Train loss: 1.095288 Train acc: 0.410156\n",
      "Epoch: 16/20 Iteration: 1385 Train loss: 1.141395 Train acc: 0.312988\n",
      "Epoch: 16/20 Iteration: 1390 Train loss: 1.059025 Train acc: 0.467773\n",
      "Epoch: 16/20 Iteration: 1395 Train loss: 1.001679 Train acc: 0.579102\n",
      "Epoch: 16/20 Iteration: 1400 Train loss: 1.002749 Train acc: 0.584961\n",
      "Epoch: 16/20 Iteration: 1405 Train loss: 1.114605 Train acc: 0.278320\n",
      "Epoch: 16/20 Iteration: 1410 Train loss: 0.985457 Train acc: 0.631836\n",
      "Epoch: 16/20 Iteration: 1415 Train loss: 1.064830 Train acc: 0.494629\n",
      "Epoch: 16/20 Iteration: 1420 Train loss: 1.108931 Train acc: 0.320801\n",
      "Epoch: 16/20 Iteration: 1425 Train loss: 1.102188 Train acc: 0.319824\n",
      "Epoch: 16/20 Iteration: 1430 Train loss: 1.097550 Train acc: 0.345703\n",
      "Epoch: 16/20 Iteration: 1435 Train loss: 1.028418 Train acc: 0.461426\n",
      "Epoch: 16/20 Iteration: 1440 Train loss: 1.184661 Train acc: 0.331543\n",
      "Epoch: 16/20 Iteration: 1445 Train loss: 1.190472 Train acc: 0.267090\n",
      "Epoch: 17/20 Iteration: 1450 Train loss: 1.061692 Train acc: 0.503418\n",
      "Epoch: 17/20 Iteration: 1455 Train loss: 1.092111 Train acc: 0.399902\n",
      "Epoch: 17/20 Iteration: 1460 Train loss: 1.146110 Train acc: 0.348633\n",
      "Epoch: 17/20 Iteration: 1465 Train loss: 1.095312 Train acc: 0.410156\n",
      "Epoch: 17/20 Iteration: 1470 Train loss: 1.142609 Train acc: 0.312988\n",
      "Epoch: 17/20 Iteration: 1475 Train loss: 1.060536 Train acc: 0.467773\n",
      "Epoch: 17/20 Iteration: 1480 Train loss: 1.001491 Train acc: 0.579102\n",
      "Epoch: 17/20 Iteration: 1485 Train loss: 1.001468 Train acc: 0.584961\n",
      "Epoch: 17/20 Iteration: 1490 Train loss: 1.116447 Train acc: 0.278320\n",
      "Epoch: 17/20 Iteration: 1495 Train loss: 0.980702 Train acc: 0.631836\n",
      "Epoch: 17/20 Iteration: 1500 Train loss: 1.063929 Train acc: 0.494629\n",
      "Epoch: 17/20 Iteration: 1505 Train loss: 1.108913 Train acc: 0.316406\n",
      "Epoch: 17/20 Iteration: 1510 Train loss: 1.102184 Train acc: 0.318359\n",
      "Epoch: 17/20 Iteration: 1515 Train loss: 1.097337 Train acc: 0.335449\n",
      "Epoch: 17/20 Iteration: 1520 Train loss: 1.028864 Train acc: 0.444336\n",
      "Epoch: 17/20 Iteration: 1525 Train loss: 1.176321 Train acc: 0.329590\n",
      "Epoch: 17/20 Iteration: 1530 Train loss: 1.187152 Train acc: 0.246094\n",
      "Epoch: 18/20 Iteration: 1535 Train loss: 1.054756 Train acc: 0.503418\n",
      "Epoch: 18/20 Iteration: 1540 Train loss: 1.091567 Train acc: 0.399902\n",
      "Epoch: 18/20 Iteration: 1545 Train loss: 1.145508 Train acc: 0.348633\n",
      "Epoch: 18/20 Iteration: 1550 Train loss: 1.093282 Train acc: 0.410156\n",
      "Epoch: 18/20 Iteration: 1555 Train loss: 1.143434 Train acc: 0.312988\n",
      "Epoch: 18/20 Iteration: 1560 Train loss: 1.059633 Train acc: 0.467773\n",
      "Epoch: 18/20 Iteration: 1565 Train loss: 1.002165 Train acc: 0.579102\n",
      "Epoch: 18/20 Iteration: 1570 Train loss: 1.001348 Train acc: 0.584961\n",
      "Epoch: 18/20 Iteration: 1575 Train loss: 1.117603 Train acc: 0.278320\n",
      "Epoch: 18/20 Iteration: 1580 Train loss: 0.981507 Train acc: 0.631836\n",
      "Epoch: 18/20 Iteration: 1585 Train loss: 1.062862 Train acc: 0.494629\n",
      "Epoch: 18/20 Iteration: 1590 Train loss: 1.111750 Train acc: 0.304688\n",
      "Epoch: 18/20 Iteration: 1595 Train loss: 1.098685 Train acc: 0.333496\n",
      "Epoch: 18/20 Iteration: 1600 Train loss: 1.099019 Train acc: 0.348145\n",
      "Epoch: 18/20 Iteration: 1605 Train loss: 1.024853 Train acc: 0.441406\n",
      "Epoch: 18/20 Iteration: 1610 Train loss: 1.185897 Train acc: 0.336426\n",
      "Epoch: 18/20 Iteration: 1615 Train loss: 1.188054 Train acc: 0.239746\n",
      "Epoch: 19/20 Iteration: 1620 Train loss: 1.057217 Train acc: 0.503418\n",
      "Epoch: 19/20 Iteration: 1625 Train loss: 1.092355 Train acc: 0.399902\n",
      "Epoch: 19/20 Iteration: 1630 Train loss: 1.145234 Train acc: 0.348633\n",
      "Epoch: 19/20 Iteration: 1635 Train loss: 1.095321 Train acc: 0.410156\n",
      "Epoch: 19/20 Iteration: 1640 Train loss: 1.141986 Train acc: 0.312988\n",
      "Epoch: 19/20 Iteration: 1645 Train loss: 1.059545 Train acc: 0.467773\n",
      "Epoch: 19/20 Iteration: 1650 Train loss: 1.002521 Train acc: 0.579102\n",
      "Epoch: 19/20 Iteration: 1655 Train loss: 1.001727 Train acc: 0.584961\n",
      "Epoch: 19/20 Iteration: 1660 Train loss: 1.118761 Train acc: 0.278320\n",
      "Epoch: 19/20 Iteration: 1665 Train loss: 0.983598 Train acc: 0.631836\n",
      "Epoch: 19/20 Iteration: 1670 Train loss: 1.063176 Train acc: 0.494629\n",
      "Epoch: 19/20 Iteration: 1675 Train loss: 1.111027 Train acc: 0.286621\n",
      "Epoch: 19/20 Iteration: 1680 Train loss: 1.095355 Train acc: 0.381348\n",
      "Epoch: 19/20 Iteration: 1685 Train loss: 1.093831 Train acc: 0.389648\n",
      "Epoch: 19/20 Iteration: 1690 Train loss: 1.027650 Train acc: 0.437500\n",
      "Epoch: 19/20 Iteration: 1695 Train loss: 1.179351 Train acc: 0.319336\n",
      "Epoch: 19/20 Iteration: 1700 Train loss: 1.189555 Train acc: 0.261719\n"
     ]
    }
   ],
   "source": [
    "interation_compute_val = 1\n",
    "validation_acc = []\n",
    "validation_loss = []\n",
    "\n",
    "train_acc = []\n",
    "train_loss = []\n",
    "\n",
    "with graph.as_default():\n",
    "    saver = tf.train.Saver()\n",
    "\n",
    "with tf.Session(graph=graph) as sess:\n",
    "    sess.run(tf.global_variables_initializer())\n",
    "    iteration = 1\n",
    "    saver.restore(sess, \"checkpoints/har-lstm.ckpt\")\n",
    "    for e in range(epochs):\n",
    "        # Initialize \n",
    "        state = sess.run(initial_state)\n",
    "        \n",
    "        # Loop over batches\n",
    "        for x,y in get_batches(X_tr, y_tr, batch_size):\n",
    "            \n",
    "            # Feed dictionary\n",
    "            feed = {inputs_ : x, labels_ : y, keep_prob_ : 0.5, \n",
    "                    initial_state : state, learning_rate_ : learning_rate}\n",
    "            \n",
    "            loss, _ , state, acc = sess.run([cost, optimizer, final_state, accuracy], \n",
    "                                             feed_dict = feed)\n",
    "            train_acc.append(acc)\n",
    "            train_loss.append(loss)\n",
    "            \n",
    "            # Print at each 5 iters\n",
    "            if (iteration % 5 == 0):\n",
    "                print(\"Epoch: {}/{}\".format(e, epochs),\n",
    "                      \"Iteration: {:d}\".format(iteration),\n",
    "                      \"Train loss: {:6f}\".format(loss),\n",
    "                      \"Train acc: {:.6f}\".format(acc))\n",
    "            \n",
    "            # Compute validation loss at every 25 iterations\n",
    "            if (iteration%interation_compute_val == 50):\n",
    "                \n",
    "                # Initiate for validation set\n",
    "                val_state = sess.run(cell.zero_state(batch_size, tf.float32))\n",
    "                \n",
    "                val_acc_ = []\n",
    "                val_loss_ = []\n",
    "                for x_v, y_v in get_batches(X_vld, y_vld, batch_size):\n",
    "                    # Feed\n",
    "                    feed = {inputs_ : x_v, labels_ : y_v, keep_prob_ : 1.0, initial_state : val_state}\n",
    "                    \n",
    "                    # Loss\n",
    "                    loss_v, state_v, acc_v = sess.run([cost, final_state, accuracy], feed_dict = feed)\n",
    "                    \n",
    "                    val_acc_.append(acc_v)\n",
    "                    val_loss_.append(loss_v)\n",
    "                \n",
    "                # Print info\n",
    "                print(\"Epoch: {}/{}\".format(e, epochs),\n",
    "                      \"Iteration: {:d}\".format(iteration),\n",
    "                      \"Validation loss: {:6f}\".format(np.mean(val_loss_)),\n",
    "                      \"Validation acc: {:.6f}\".format(np.mean(val_acc_)))\n",
    "                \n",
    "                # Store\n",
    "                validation_acc.append(np.mean(val_acc_))\n",
    "                validation_loss.append(np.mean(val_loss_))\n",
    "            \n",
    "            # Iterate \n",
    "            iteration += 1\n",
    "    \n",
    "    saver.save(sess,\"checkpoints/har-lstm.ckpt\")"
   ]
  },
  {
   "cell_type": "code",
   "execution_count": 16,
   "metadata": {},
   "outputs": [
    {
     "data": {
      "image/png": "[encoded data removed]",
      "text/plain": [
       "<Figure size 432x432 with 1 Axes>"
      ]
     },
     "metadata": {},
     "output_type": "display_data"
    }
   ],
   "source": [
    "# Plot training and test loss\n",
    "t = np.arange(iteration-1)\n",
    "\n",
    "plt.figure(figsize = (6,6))\n",
    "plt.plot(t, np.array(train_loss), 'r-', t[t % interation_compute_val == 50], np.array(validation_loss), 'b*')\n",
    "plt.xlabel(\"iteration\")\n",
    "plt.ylabel(\"Loss\")\n",
    "plt.legend(['train', 'validation'], loc='upper right')\n",
    "plt.show()"
   ]
  },
  {
   "cell_type": "code",
   "execution_count": 17,
   "metadata": {},
   "outputs": [
    {
     "data": {
      "image/png": "[encoded data removed]",
      "text/plain": [
       "<Figure size 432x432 with 1 Axes>"
      ]
     },
     "metadata": {},
     "output_type": "display_data"
    }
   ],
   "source": [
    "\n",
    "# Plot Accuracies# Plot A \n",
    "plt.figure(figsize = (6,6))\n",
    "\n",
    "plt.plot(t, np.array(train_acc), 'r-', t[t % interation_compute_val == 50], validation_acc, 'b*')\n",
    "plt.xlabel(\"iteration\")\n",
    "plt.ylabel(\"Accuray\")\n",
    "plt.legend(['train', 'validation'], loc='upper right')\n",
    "plt.show()"
   ]
  },
  {
   "cell_type": "markdown",
   "metadata": {},
   "source": [
    "Evaluate on test set"
   ]
  },
  {
   "cell_type": "code",
   "execution_count": 18,
   "metadata": {},
   "outputs": [
    {
     "name": "stdout",
     "output_type": "stream",
     "text": [
      "INFO:tensorflow:Restoring parameters from checkpoints\\har-lstm.ckpt\n",
      "(70626, 3)\n",
      "0.478516\n",
      "0.559082\n",
      "0.505859\n",
      "0.557617\n",
      "0.557617\n",
      "0.524902\n",
      "0.651855\n",
      "0.474121\n",
      "0.532715\n",
      "0.393555\n",
      "0.513672\n",
      "0.533203\n",
      "0.594727\n",
      "0.469727\n",
      "0.382324\n",
      "0.46582\n",
      "0.182617\n",
      "0.0\n",
      "0.0\n",
      "0.0\n",
      "0.0\n",
      "0.0\n",
      "0.0\n",
      "0.0\n",
      "0.0\n",
      "0.0\n",
      "0.0\n",
      "0.0\n",
      "0.0\n",
      "0.0\n",
      "0.0\n",
      "0.0\n",
      "0.0\n",
      "0.0\n",
      "Test accuracy: 0.246410\n"
     ]
    }
   ],
   "source": [
    "test_acc = []\n",
    "\n",
    "with tf.Session(graph=graph) as sess:\n",
    "    # Restore\n",
    "    saver.restore(sess, tf.train.latest_checkpoint('checkpoints'))\n",
    "    test_state = sess.run(cell.zero_state(batch_size, tf.float32))\n",
    "    print(y_vld.shape)\n",
    "    for x_t, y_t in get_batches(X_vld, y_vld, batch_size):        \n",
    "        feed = {inputs_: x_t,\n",
    "                labels_: y_t,\n",
    "                keep_prob_: 1,\n",
    "                initial_state: test_state}\n",
    "        \n",
    "        batch_acc, test_state = sess.run([accuracy, final_state], feed_dict=feed)\n",
    "        test_acc.append(batch_acc)\n",
    "        print(batch_acc)\n",
    "    print(\"Test accuracy: {:.6f}\".format(np.mean(test_acc)))"
   ]
  },
  {
   "cell_type": "code",
   "execution_count": 19,
   "metadata": {},
   "outputs": [
    {
     "name": "stdout",
     "output_type": "stream",
     "text": [
      "[[ 0  1  2  0  4  5  6  7  8 10]\n",
      " [ 0 11  0 13  0 15  0 17 18  0]]\n"
     ]
    }
   ],
   "source": [
    "\n",
    "a = np.array([[ 0,  1,  2,  0,  4,  5,  6,  7,  8,  10],\n",
    "              [ 0, 11,  0, 13,  0, 15,  0, 17, 18,  0]])\n",
    "print (a[a.max(axis=1) >= 10])\n"
   ]
  },
  {
   "cell_type": "code",
   "execution_count": 20,
   "metadata": {},
   "outputs": [
    {
     "name": "stdout",
     "output_type": "stream",
     "text": [
      "[[0 1 2 0 4 5 6 7 8 9]]\n"
     ]
    }
   ],
   "source": [
    "\n",
    "a = np.array([[ 0,  1,  2,  0,  4,  5,  6,  7,  8,  9],\n",
    "              [ 0, 11,  0, 13,  0, 15,  0, 17, 18,  0]])\n",
    "print (a[a[:,2]!=0])"
   ]
  },
  {
   "cell_type": "code",
   "execution_count": 21,
   "metadata": {},
   "outputs": [
    {
     "ename": "NameError",
     "evalue": "name 'ytest' is not defined",
     "output_type": "error",
     "traceback": [
      "\u001b[1;31m---------------------------------------------------------------------------\u001b[0m",
      "\u001b[1;31mNameError\u001b[0m                                 Traceback (most recent call last)",
      "\u001b[1;32m<ipython-input-21-a2bf8e0aca21>\u001b[0m in \u001b[0;36m<module>\u001b[1;34m()\u001b[0m\n\u001b[1;32m----> 1\u001b[1;33m \u001b[0mprint\u001b[0m\u001b[1;33m(\u001b[0m\u001b[0mytest\u001b[0m\u001b[1;33m[\u001b[0m\u001b[1;33m:\u001b[0m\u001b[1;33m]\u001b[0m\u001b[1;33m!=\u001b[0m\u001b[1;36m0\u001b[0m\u001b[1;33m)\u001b[0m\u001b[1;33m\u001b[0m\u001b[0m\n\u001b[0m\u001b[0;32m      2\u001b[0m Xtest = np.array([[ 0,  1,  2,  0,  4,  5,  6,  7,  8,  9],\n\u001b[0;32m      3\u001b[0m               \u001b[1;33m[\u001b[0m \u001b[1;36m0\u001b[0m\u001b[1;33m,\u001b[0m \u001b[1;36m11\u001b[0m\u001b[1;33m,\u001b[0m  \u001b[1;36m0\u001b[0m\u001b[1;33m,\u001b[0m \u001b[1;36m13\u001b[0m\u001b[1;33m,\u001b[0m  \u001b[1;36m0\u001b[0m\u001b[1;33m,\u001b[0m \u001b[1;36m15\u001b[0m\u001b[1;33m,\u001b[0m  \u001b[1;36m0\u001b[0m\u001b[1;33m,\u001b[0m \u001b[1;36m17\u001b[0m\u001b[1;33m,\u001b[0m \u001b[1;36m18\u001b[0m\u001b[1;33m,\u001b[0m  \u001b[1;36m0\u001b[0m\u001b[1;33m]\u001b[0m\u001b[1;33m,\u001b[0m\u001b[1;33m\u001b[0m\u001b[0m\n\u001b[0;32m      4\u001b[0m              [ 0, 11,  0, 13,  0, 15,  0, 11, 1,  1]])\n\u001b[0;32m      5\u001b[0m \u001b[0mytest\u001b[0m \u001b[1;33m=\u001b[0m \u001b[0mnp\u001b[0m\u001b[1;33m.\u001b[0m\u001b[0marray\u001b[0m\u001b[1;33m(\u001b[0m\u001b[1;33m[\u001b[0m \u001b[1;36m0\u001b[0m\u001b[1;33m,\u001b[0m  \u001b[1;36m1\u001b[0m\u001b[1;33m,\u001b[0m  \u001b[1;36m1\u001b[0m\u001b[1;33m]\u001b[0m\u001b[1;33m)\u001b[0m\u001b[1;33m\u001b[0m\u001b[0m\n",
      "\u001b[1;31mNameError\u001b[0m: name 'ytest' is not defined"
     ]
    }
   ],
   "source": [
    "print(ytest[:]!=0)\n",
    "Xtest = np.array([[ 0,  1,  2,  0,  4,  5,  6,  7,  8,  9],\n",
    "              [ 0, 11,  0, 13,  0, 15,  0, 17, 18,  0],\n",
    "             [ 0, 11,  0, 13,  0, 15,  0, 11, 1,  1]])\n",
    "ytest = np.array([ 0,  1,  1])\n",
    "Xtest = Xtest[ytest[:]!=0,:]\n",
    "ytest = ytest[ytest[:]!=0]\n",
    "print(Xtest)\n",
    "print(ytest)"
   ]
  },
  {
   "cell_type": "code",
   "execution_count": null,
   "metadata": {
    "collapsed": true
   },
   "outputs": [],
   "source": []
  }
 ],
 "metadata": {
  "kernelspec": {
   "display_name": "Python 3",
   "language": "python",
   "name": "python3"
  },
  "language_info": {
   "codemirror_mode": {
    "name": "ipython",
    "version": 3
   },
   "file_extension": ".py",
   "mimetype": "text/x-python",
   "name": "python",
   "nbconvert_exporter": "python",
   "pygments_lexer": "ipython3",
   "version": "3.5.4"
  }
 },
 "nbformat": 4,
 "nbformat_minor": 2
}
