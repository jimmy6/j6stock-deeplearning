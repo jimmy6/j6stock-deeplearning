{
 "cells": [
  {
   "cell_type": "code",
   "execution_count": 1,
   "metadata": {
    "collapsed": true
   },
   "outputs": [],
   "source": [
    "xfile = 'F:\\workspace\\j6stock\\XOpenHighLowCloseVol_tp10_cl10.txt'\n",
    "lstm_size = 60         # 3 times the amount of channels\n",
    "lstm_layers = 2        # Number of layers\n",
    "batch_size = 2048       # Batch size\n",
    "learning_rate = 0.001  #0.0001  # Learning rate (default is 0.001)\n",
    "epochs = 20\n",
    "\n",
    "# Fixed\n",
    "#amount_of_features_cvs = 5 # cvs with prefix with feature column\n",
    "#n_channels = amount_of_features\n",
    "seq_len = lstm_size\n",
    "y_column = 6"
   ]
  },
  {
   "cell_type": "code",
   "execution_count": 2,
   "metadata": {},
   "outputs": [
    {
     "name": "stderr",
     "output_type": "stream",
     "text": [
      "Using Theano backend.\n",
      "WARNING (theano.configdefaults): g++ not available, if using conda: `conda install m2w64-toolchain`\n",
      "C:\\Users\\lai\\Anaconda3\\lib\\site-packages\\theano\\configdefaults.py:560: UserWarning: DeprecationWarning: there is no c++ compiler.This is deprecated and with Theano 0.11 a c++ compiler will be mandatory\n",
      "  warnings.warn(\"DeprecationWarning: there is no c++ compiler.\"\n",
      "WARNING (theano.configdefaults): g++ not detected ! Theano will be unable to execute optimized C-implementations (for both CPU and GPU) and will default to Python implementations. Performance will be severely degraded. To remove this warning, set Theano flags cxx to an empty string.\n",
      "WARNING (theano.tensor.blas): Using NumPy C-API based implementation for BLAS functions.\n"
     ]
    }
   ],
   "source": [
    "import tensorflow as tf\n",
    "from sklearn import preprocessing\n",
    "import seaborn as sns\n",
    "import numpy as np\n",
    "import matplotlib.pyplot as plt\n",
    "import matplotlib.pyplot as plt2\n",
    "import pandas as pd\n",
    "from pandas import datetime\n",
    "import math, time\n",
    "import itertools\n",
    "from sklearn import preprocessing\n",
    "import datetime\n",
    "from sklearn.metrics import mean_squared_error\n",
    "from math import sqrt\n",
    "from keras.models import Sequential\n",
    "from keras.layers.core import Dense, Dropout, Activation\n",
    "from keras.layers.recurrent import LSTM\n",
    "from keras.models import load_model\n",
    "import keras\n",
    "import pandas_datareader.data as web\n",
    "import h5py\n",
    "import os\n",
    "from keras import backend as K"
   ]
  },
  {
   "cell_type": "code",
   "execution_count": 3,
   "metadata": {
    "collapsed": true
   },
   "outputs": [],
   "source": [
    "def get_stock_data(normalize=True, ma=[]):\n",
    "    \"\"\"\n",
    "    Return a dataframe of that stock and normalize all the values. \n",
    "    (Optional: create moving average)\n",
    "    \"\"\"\n",
    "    df = pd.read_csv(filepath_or_buffer  = xfile )\n",
    "\n",
    "    df['change'] = df['open'] - df['close']\n",
    "    df.dropna(inplace=True)\n",
    "    \n",
    "    # Moving Average    \n",
    "    if ma != []:\n",
    "        for moving in ma:\n",
    "            df['{}ma'.format(moving)] = df['close'].rolling(window=moving).mean()\n",
    "    df.dropna(inplace=True)\n",
    "    if normalize:\n",
    "        min_max_scaler = preprocessing.MinMaxScaler()\n",
    "        df['open'] = min_max_scaler.fit_transform(df.open.values.reshape(-1,1))\n",
    "        df['high'] = min_max_scaler.fit_transform(df.high.values.reshape(-1,1))\n",
    "        df['low'] = min_max_scaler.fit_transform(df.low.values.reshape(-1,1))\n",
    "        #df['vol'] = min_max_scaler.fit_transform(df.vol.values.reshape(-1,1))\n",
    "        df['close'] = min_max_scaler.fit_transform(df['close'].values.reshape(-1,1))\n",
    "        df['change'] = min_max_scaler.fit_transform(df['change'].values.reshape(-1,1))\n",
    "        if ma != []:\n",
    "            for moving in ma:\n",
    "                df['{}ma'.format(moving)] = min_max_scaler.fit_transform(df['{}ma'.format(moving)].values.reshape(-1,1))  \n",
    "    df.dropna(inplace=True)\n",
    "               \n",
    "    # Move y_result to the rightmost for the ease of training\n",
    "    adj_close = df['y_result']\n",
    "    df.drop(labels=['y_result'], axis=1, inplace=True)\n",
    "    df = pd.concat([df, adj_close], axis=1)\n",
    "      \n",
    "    return df"
   ]
  },
  {
   "cell_type": "code",
   "execution_count": 4,
   "metadata": {
    "collapsed": true
   },
   "outputs": [],
   "source": [
    "df = get_stock_data( ma=[50, 100, 200])\n",
    "amount_of_features = len(df.columns)-1"
   ]
  },
  {
   "cell_type": "code",
   "execution_count": 5,
   "metadata": {
    "collapsed": true
   },
   "outputs": [],
   "source": [
    "def plot_stock(df):\n",
    "    print(df.head())\n",
    "    plt.subplot(211)\n",
    "    plt.plot(df['close'], color='red', label='Close')\n",
    "    plt.legend(loc='best')\n",
    "    plt.subplot(212)\n",
    "    plt.plot(df['change'], color='blue', label='Percentage change')\n",
    "    plt.legend(loc='best')\n",
    "    plt.show()"
   ]
  },
  {
   "cell_type": "code",
   "execution_count": 6,
   "metadata": {},
   "outputs": [
    {
     "name": "stdout",
     "output_type": "stream",
     "text": [
      "         open      high       low     close    change      50ma     100ma  \\\n",
      "199  0.358586  0.355870  0.358374  0.357085  0.410872  0.351429  0.351070   \n",
      "200  0.357245  0.354622  0.357608  0.356606  0.399494  0.351433  0.351063   \n",
      "201  0.356623  0.354862  0.357799  0.356893  0.387484  0.351445  0.351060   \n",
      "202  0.357054  0.354478  0.358422  0.357133  0.390013  0.351502  0.351082   \n",
      "203  0.357293  0.355774  0.358709  0.358138  0.379899  0.351587  0.351141   \n",
      "\n",
      "        200ma  y_result  \n",
      "199  0.346428         0  \n",
      "200  0.346426         0  \n",
      "201  0.346424         0  \n",
      "202  0.346433         0  \n",
      "203  0.346448         0  \n"
     ]
    },
    {
     "data": {
      "image/png": "[encoded data removed]",
      "text/plain": [
       "<Figure size 432x288 with 2 Axes>"
      ]
     },
     "metadata": {},
     "output_type": "display_data"
    }
   ],
   "source": [
    "plot_stock(df)"
   ]
  },
  {
   "cell_type": "code",
   "execution_count": 7,
   "metadata": {},
   "outputs": [
    {
     "data": {
      "image/png": "[encoded data removed]",
      "text/plain": [
       "<Figure size 432x288 with 2 Axes>"
      ]
     },
     "metadata": {},
     "output_type": "display_data"
    }
   ],
   "source": [
    "corr = df.corr()\n",
    "ax = sns.heatmap(corr, cmap=\"YlGnBu\")\n",
    "plt.show()"
   ]
  },
  {
   "cell_type": "code",
   "execution_count": 8,
   "metadata": {
    "collapsed": true
   },
   "outputs": [],
   "source": [
    "def load_data(stock, seq_len):\n",
    "    print (\"Amount of features = {}\".format(amount_of_features))\n",
    "    data = stock.as_matrix()\n",
    "    sequence_length = seq_len + 1 # index starting from 0\n",
    "    x_result = []\n",
    "    y_result = []\n",
    "    for index in range(seq_len, len(data) ): # maxmimum date = lastest date - sequence length\n",
    "        x_result.append(data[index-seq_len: index,:-1]) # index : index + 22days\n",
    "        y_result.append(data[index ,amount_of_features]);\n",
    "\n",
    "    #print('---', data[0])\n",
    "    #print('---', x_result[0])\n",
    "    #print('---', y_result[0])\n",
    "    x_result = np.array(x_result)\n",
    "    y_result = np.array(y_result)\n",
    "    row = round(0.6 * y_result.shape[0]) # 80% split\n",
    "    print (\"Amount of training data = {}\".format(0.9 * x_result.shape[0]))\n",
    "    print (\"Amount of testing data = {}\".format(0.1 * y_result.shape[0]))\n",
    "     \n",
    "    X_train = x_result[:int(row), :] # 90% date\n",
    "    y_train = y_result[:int(row)] # 90% date\n",
    "        \n",
    "\n",
    "    X_test = x_result[int(row):, :]\n",
    "    y_test = y_result[int(row):]\n",
    "    # filter for 1 and -1 for validation only\n",
    "    X_test = X_test[y_test[:]!=0,:]\n",
    "    y_test = y_test[y_test[:]!=0]\n",
    "    #print(result.shape[0], len(y_result), int(row), y_result[int(row):])\n",
    "    #X_train = np.reshape(X_train, (X_train.shape[0], X_train.shape[1], amount_of_features-1))\n",
    "    #X_test = np.reshape(X_test, (X_test.shape[0], X_test.shape[1], amount_of_features-1))\n",
    "    \n",
    "    return [X_train, y_train, X_test, y_test]"
   ]
  },
  {
   "cell_type": "code",
   "execution_count": 9,
   "metadata": {},
   "outputs": [
    {
     "name": "stdout",
     "output_type": "stream",
     "text": [
      "Amount of features = 8\n",
      "Amount of training data = 261972.9\n",
      "Amount of testing data = 29108.100000000002\n",
      "(174649, 60, 8) (174649,) (70650, 60, 8) (70650,)\n",
      "8\n"
     ]
    }
   ],
   "source": [
    "lb = preprocessing.LabelBinarizer()\n",
    "lb.fit([1, 0, -1])\n",
    "\n",
    "X_tr, lab_tr, X_vld, lab_vld = load_data(df, seq_len)\n",
    "y_tr = lb.transform(lab_tr)\n",
    "y_vld = lb.transform(lab_vld)\n",
    "print(X_tr.shape, lab_tr.shape, X_vld.shape, lab_vld.shape)\n",
    "print(amount_of_features)"
   ]
  },
  {
   "cell_type": "code",
   "execution_count": 10,
   "metadata": {
    "collapsed": true
   },
   "outputs": [],
   "source": [
    "def get_batches(X, y, batch_size = 100):\n",
    "\t\"\"\" Return a generator for batches \"\"\"\n",
    "\tn_batches = len(X) // batch_size\n",
    "\tX, y = X[:n_batches*batch_size], y[:n_batches*batch_size]\n",
    "\n",
    "\t# Loop over batches and yield\n",
    "\tfor b in range(0, len(X), batch_size):\n",
    "\t\tyield X[b:b+batch_size], y[b:b+batch_size]"
   ]
  },
  {
   "cell_type": "code",
   "execution_count": 11,
   "metadata": {
    "collapsed": true
   },
   "outputs": [],
   "source": [
    "graph = tf.Graph()\n",
    "n_channels = amount_of_features\n",
    "n_classes = lb.transform([1]).shape[1]\n",
    "# Construct placeholders\n",
    "with graph.as_default():\n",
    "    inputs_ = tf.placeholder(tf.float32, [None, seq_len, n_channels], name = 'inputs')\n",
    "    labels_ = tf.placeholder(tf.float32, [None, n_classes], name = 'labels')\n",
    "    keep_prob_ = tf.placeholder(tf.float32, name = 'keep')\n",
    "    learning_rate_ = tf.placeholder(tf.float32, name = 'learning_rate')"
   ]
  },
  {
   "cell_type": "markdown",
   "metadata": {},
   "source": [
    "Construct inputs to LSTM"
   ]
  },
  {
   "cell_type": "code",
   "execution_count": 12,
   "metadata": {
    "collapsed": true
   },
   "outputs": [],
   "source": [
    "with graph.as_default():\n",
    "    # Construct the LSTM inputs and LSTM cells\n",
    "    lstm_in = tf.transpose(inputs_, [1,0,2]) # reshape into (seq_len, N, channels)\n",
    "    lstm_in = tf.reshape(lstm_in, [-1, n_channels]) # Now (seq_len*N, n_channels)\n",
    "    \n",
    "    # To cells\n",
    "    lstm_in = tf.layers.dense(lstm_in, lstm_size, activation=None) # or tf.nn.relu, tf.nn.sigmoid, tf.nn.tanh?\n",
    "    \n",
    "    # Open up the tensor into a list of seq_len pieces\n",
    "    lstm_in = tf.split(lstm_in, seq_len, 0)\n",
    "    \n",
    "    # Add LSTM layers\n",
    "    lstm = tf.contrib.rnn.BasicLSTMCell(lstm_size)\n",
    "    drop = tf.contrib.rnn.DropoutWrapper(lstm, output_keep_prob=keep_prob_)\n",
    "    cell = tf.contrib.rnn.MultiRNNCell([drop] * lstm_layers)\n",
    "    initial_state = cell.zero_state(batch_size, tf.float32)"
   ]
  },
  {
   "cell_type": "markdown",
   "metadata": {},
   "source": [
    "Define forward pass, cost function and optimizer:"
   ]
  },
  {
   "cell_type": "code",
   "execution_count": 13,
   "metadata": {
    "collapsed": true
   },
   "outputs": [],
   "source": [
    "with graph.as_default():\n",
    "    outputs, final_state = tf.contrib.rnn.static_rnn(cell, lstm_in, dtype=tf.float32,\n",
    "                                                     initial_state = initial_state)\n",
    "    \n",
    "    # We only need the last output tensor to pass into a classifier\n",
    "    logits = tf.layers.dense(outputs[-1], n_classes, name='logits')\n",
    "    \n",
    "    # Cost function and optimizer\n",
    "    cost = tf.reduce_mean(tf.nn.softmax_cross_entropy_with_logits(logits=logits, labels=labels_))\n",
    "    #optimizer = tf.train.AdamOptimizer(learning_rate_).minimize(cost) # No grad clipping\n",
    "    \n",
    "    # Grad clipping\n",
    "    train_op = tf.train.AdamOptimizer(learning_rate_)\n",
    "\n",
    "    gradients = train_op.compute_gradients(cost)\n",
    "    capped_gradients = [(tf.clip_by_value(grad, -1., 1.), var) for grad, var in gradients]\n",
    "    optimizer = train_op.apply_gradients(capped_gradients)\n",
    "    \n",
    "    # Accuracy\n",
    "    correct_pred = tf.equal(tf.argmax(logits, 1), tf.argmax(labels_, 1))\n",
    "    accuracy = tf.reduce_mean(tf.cast(correct_pred, tf.float32), name='accuracy')"
   ]
  },
  {
   "cell_type": "code",
   "execution_count": 14,
   "metadata": {
    "collapsed": true
   },
   "outputs": [],
   "source": [
    "if (os.path.exists('checkpoints') == False):\n",
    "    !mkdir checkpoints"
   ]
  },
  {
   "cell_type": "code",
   "execution_count": 15,
   "metadata": {
    "scrolled": true
   },
   "outputs": [
    {
     "name": "stdout",
     "output_type": "stream",
     "text": [
      "Epoch: 0/20 Iteration: 5 Train loss: 1.081090 Train acc: 0.433105\n",
      "Epoch: 0/20 Iteration: 10 Train loss: 1.099215 Train acc: 0.359863\n",
      "Epoch: 0/20 Iteration: 15 Train loss: 1.098771 Train acc: 0.340820\n",
      "Epoch: 0/20 Iteration: 20 Train loss: 1.091915 Train acc: 0.409668\n",
      "Epoch: 0/20 Iteration: 25 Train loss: 1.110181 Train acc: 0.326172\n",
      "Epoch: 0/20 Iteration: 30 Train loss: 1.068864 Train acc: 0.454102\n",
      "Epoch: 0/20 Iteration: 35 Train loss: 1.011307 Train acc: 0.549805\n",
      "Epoch: 0/20 Iteration: 40 Train loss: 1.001943 Train acc: 0.562988\n",
      "Epoch: 0/20 Iteration: 45 Train loss: 1.147481 Train acc: 0.307617\n",
      "Epoch: 0/20 Iteration: 50 Train loss: 1.021031 Train acc: 0.631836\n",
      "Epoch: 0/20 Iteration: 55 Train loss: 1.053839 Train acc: 0.522461\n",
      "Epoch: 0/20 Iteration: 60 Train loss: 1.098516 Train acc: 0.383301\n",
      "Epoch: 0/20 Iteration: 65 Train loss: 1.202031 Train acc: 0.228516\n",
      "Epoch: 0/20 Iteration: 70 Train loss: 1.122257 Train acc: 0.279785\n",
      "Epoch: 0/20 Iteration: 75 Train loss: 1.039386 Train acc: 0.460938\n",
      "Epoch: 0/20 Iteration: 80 Train loss: 1.239137 Train acc: 0.310059\n",
      "Epoch: 0/20 Iteration: 85 Train loss: 1.189154 Train acc: 0.257324\n",
      "Epoch: 1/20 Iteration: 90 Train loss: 1.110285 Train acc: 0.284668\n",
      "Epoch: 1/20 Iteration: 95 Train loss: 1.092883 Train acc: 0.389160\n",
      "Epoch: 1/20 Iteration: 100 Train loss: 1.104959 Train acc: 0.348145\n",
      "Epoch: 1/20 Iteration: 105 Train loss: 1.086054 Train acc: 0.411133\n",
      "Epoch: 1/20 Iteration: 110 Train loss: 1.118279 Train acc: 0.325684\n",
      "Epoch: 1/20 Iteration: 115 Train loss: 1.070957 Train acc: 0.454102\n",
      "Epoch: 1/20 Iteration: 120 Train loss: 1.028429 Train acc: 0.549805\n",
      "Epoch: 1/20 Iteration: 125 Train loss: 1.009095 Train acc: 0.562988\n",
      "Epoch: 1/20 Iteration: 130 Train loss: 1.151030 Train acc: 0.307617\n",
      "Epoch: 1/20 Iteration: 135 Train loss: 0.994752 Train acc: 0.631836\n",
      "Epoch: 1/20 Iteration: 140 Train loss: 1.046705 Train acc: 0.522461\n",
      "Epoch: 1/20 Iteration: 145 Train loss: 1.103562 Train acc: 0.383301\n",
      "Epoch: 1/20 Iteration: 150 Train loss: 1.206986 Train acc: 0.228516\n",
      "Epoch: 1/20 Iteration: 155 Train loss: 1.117615 Train acc: 0.246582\n",
      "Epoch: 1/20 Iteration: 160 Train loss: 1.031777 Train acc: 0.462402\n",
      "Epoch: 1/20 Iteration: 165 Train loss: 1.186533 Train acc: 0.345215\n",
      "Epoch: 1/20 Iteration: 170 Train loss: 1.191183 Train acc: 0.266113\n",
      "Epoch: 2/20 Iteration: 175 Train loss: 1.122688 Train acc: 0.281738\n",
      "Epoch: 2/20 Iteration: 180 Train loss: 1.095867 Train acc: 0.369629\n",
      "Epoch: 2/20 Iteration: 185 Train loss: 1.104267 Train acc: 0.349121\n",
      "Epoch: 2/20 Iteration: 190 Train loss: 1.089100 Train acc: 0.415527\n",
      "Epoch: 2/20 Iteration: 195 Train loss: 1.118281 Train acc: 0.326172\n",
      "Epoch: 2/20 Iteration: 200 Train loss: 1.069333 Train acc: 0.454590\n",
      "Epoch: 2/20 Iteration: 205 Train loss: 1.027978 Train acc: 0.549805\n",
      "Epoch: 2/20 Iteration: 210 Train loss: 1.021401 Train acc: 0.562988\n",
      "Epoch: 2/20 Iteration: 215 Train loss: 1.124814 Train acc: 0.307617\n",
      "Epoch: 2/20 Iteration: 220 Train loss: 0.985141 Train acc: 0.631836\n",
      "Epoch: 2/20 Iteration: 225 Train loss: 1.038464 Train acc: 0.522461\n",
      "Epoch: 2/20 Iteration: 230 Train loss: 1.109418 Train acc: 0.383301\n",
      "Epoch: 2/20 Iteration: 235 Train loss: 1.197023 Train acc: 0.228516\n",
      "Epoch: 2/20 Iteration: 240 Train loss: 1.107422 Train acc: 0.264648\n",
      "Epoch: 2/20 Iteration: 245 Train loss: 1.040777 Train acc: 0.447266\n",
      "Epoch: 2/20 Iteration: 250 Train loss: 1.155637 Train acc: 0.349121\n",
      "Epoch: 2/20 Iteration: 255 Train loss: 1.211747 Train acc: 0.282715\n",
      "Epoch: 3/20 Iteration: 260 Train loss: 1.151830 Train acc: 0.252441\n",
      "Epoch: 3/20 Iteration: 265 Train loss: 1.109831 Train acc: 0.312988\n",
      "Epoch: 3/20 Iteration: 270 Train loss: 1.103431 Train acc: 0.349609\n",
      "Epoch: 3/20 Iteration: 275 Train loss: 1.093261 Train acc: 0.396973\n",
      "Epoch: 3/20 Iteration: 280 Train loss: 1.121017 Train acc: 0.326172\n",
      "Epoch: 3/20 Iteration: 285 Train loss: 1.071507 Train acc: 0.454102\n",
      "Epoch: 3/20 Iteration: 290 Train loss: 1.018865 Train acc: 0.549805\n",
      "Epoch: 3/20 Iteration: 295 Train loss: 1.025706 Train acc: 0.562988\n",
      "Epoch: 3/20 Iteration: 300 Train loss: 1.110420 Train acc: 0.307617\n",
      "Epoch: 3/20 Iteration: 305 Train loss: 0.995989 Train acc: 0.631836\n",
      "Epoch: 3/20 Iteration: 310 Train loss: 1.043288 Train acc: 0.522461\n",
      "Epoch: 3/20 Iteration: 315 Train loss: 1.101241 Train acc: 0.383301\n",
      "Epoch: 3/20 Iteration: 320 Train loss: 1.181376 Train acc: 0.228516\n",
      "Epoch: 3/20 Iteration: 325 Train loss: 1.104345 Train acc: 0.294922\n",
      "Epoch: 3/20 Iteration: 330 Train loss: 1.046016 Train acc: 0.470215\n",
      "Epoch: 3/20 Iteration: 335 Train loss: 1.156906 Train acc: 0.320801\n",
      "Epoch: 3/20 Iteration: 340 Train loss: 1.199960 Train acc: 0.286133\n",
      "Epoch: 4/20 Iteration: 345 Train loss: 1.140359 Train acc: 0.238770\n",
      "Epoch: 4/20 Iteration: 350 Train loss: 1.108727 Train acc: 0.262695\n",
      "Epoch: 4/20 Iteration: 355 Train loss: 1.113808 Train acc: 0.349609\n",
      "Epoch: 4/20 Iteration: 360 Train loss: 1.094735 Train acc: 0.422852\n",
      "Epoch: 4/20 Iteration: 365 Train loss: 1.126709 Train acc: 0.326172\n",
      "Epoch: 4/20 Iteration: 370 Train loss: 1.087061 Train acc: 0.454102\n",
      "Epoch: 4/20 Iteration: 375 Train loss: 1.017389 Train acc: 0.549805\n",
      "Epoch: 4/20 Iteration: 380 Train loss: 1.033697 Train acc: 0.562988\n",
      "Epoch: 4/20 Iteration: 385 Train loss: 1.104883 Train acc: 0.307617\n",
      "Epoch: 4/20 Iteration: 390 Train loss: 1.014203 Train acc: 0.631836\n",
      "Epoch: 4/20 Iteration: 395 Train loss: 1.058416 Train acc: 0.522461\n",
      "Epoch: 4/20 Iteration: 400 Train loss: 1.095448 Train acc: 0.383301\n",
      "Epoch: 4/20 Iteration: 405 Train loss: 1.130175 Train acc: 0.228516\n",
      "Epoch: 4/20 Iteration: 410 Train loss: 1.103033 Train acc: 0.284668\n",
      "Epoch: 4/20 Iteration: 415 Train loss: 1.062344 Train acc: 0.432617\n",
      "Epoch: 4/20 Iteration: 420 Train loss: 1.147608 Train acc: 0.315430\n",
      "Epoch: 4/20 Iteration: 425 Train loss: 1.186511 Train acc: 0.292969\n",
      "Epoch: 5/20 Iteration: 430 Train loss: 1.112667 Train acc: 0.279297\n",
      "Epoch: 5/20 Iteration: 435 Train loss: 1.098068 Train acc: 0.361816\n",
      "Epoch: 5/20 Iteration: 440 Train loss: 1.131624 Train acc: 0.349609\n",
      "Epoch: 5/20 Iteration: 445 Train loss: 1.090991 Train acc: 0.422852\n",
      "Epoch: 5/20 Iteration: 450 Train loss: 1.132766 Train acc: 0.326172\n",
      "Epoch: 5/20 Iteration: 455 Train loss: 1.078609 Train acc: 0.454102\n",
      "Epoch: 5/20 Iteration: 460 Train loss: 1.013962 Train acc: 0.549805\n",
      "Epoch: 5/20 Iteration: 465 Train loss: 1.023146 Train acc: 0.562988\n",
      "Epoch: 5/20 Iteration: 470 Train loss: 1.102808 Train acc: 0.307617\n",
      "Epoch: 5/20 Iteration: 475 Train loss: 1.004326 Train acc: 0.631836\n",
      "Epoch: 5/20 Iteration: 480 Train loss: 1.056869 Train acc: 0.522461\n",
      "Epoch: 5/20 Iteration: 485 Train loss: 1.095921 Train acc: 0.388184\n",
      "Epoch: 5/20 Iteration: 490 Train loss: 1.117220 Train acc: 0.229004\n",
      "Epoch: 5/20 Iteration: 495 Train loss: 1.102267 Train acc: 0.303711\n",
      "Epoch: 5/20 Iteration: 500 Train loss: 1.036351 Train acc: 0.457031\n",
      "Epoch: 5/20 Iteration: 505 Train loss: 1.184714 Train acc: 0.337891\n",
      "Epoch: 5/20 Iteration: 510 Train loss: 1.208293 Train acc: 0.267090\n",
      "Epoch: 6/20 Iteration: 515 Train loss: 1.091477 Train acc: 0.413086\n",
      "Epoch: 6/20 Iteration: 520 Train loss: 1.092522 Train acc: 0.405273\n",
      "Epoch: 6/20 Iteration: 525 Train loss: 1.147050 Train acc: 0.349609\n",
      "Epoch: 6/20 Iteration: 530 Train loss: 1.090844 Train acc: 0.422852\n",
      "Epoch: 6/20 Iteration: 535 Train loss: 1.131033 Train acc: 0.326172\n",
      "Epoch: 6/20 Iteration: 540 Train loss: 1.077321 Train acc: 0.454102\n",
      "Epoch: 6/20 Iteration: 545 Train loss: 1.014892 Train acc: 0.549805\n",
      "Epoch: 6/20 Iteration: 550 Train loss: 1.024534 Train acc: 0.562988\n",
      "Epoch: 6/20 Iteration: 555 Train loss: 1.102941 Train acc: 0.307617\n",
      "Epoch: 6/20 Iteration: 560 Train loss: 1.002353 Train acc: 0.631836\n",
      "Epoch: 6/20 Iteration: 565 Train loss: 1.057944 Train acc: 0.522461\n",
      "Epoch: 6/20 Iteration: 570 Train loss: 1.097925 Train acc: 0.358398\n",
      "Epoch: 6/20 Iteration: 575 Train loss: 1.108762 Train acc: 0.250977\n",
      "Epoch: 6/20 Iteration: 580 Train loss: 1.097681 Train acc: 0.329590\n",
      "Epoch: 6/20 Iteration: 585 Train loss: 1.046052 Train acc: 0.420898\n",
      "Epoch: 6/20 Iteration: 590 Train loss: 1.173204 Train acc: 0.324219\n",
      "Epoch: 6/20 Iteration: 595 Train loss: 1.201072 Train acc: 0.273438\n",
      "Epoch: 7/20 Iteration: 600 Train loss: 1.081662 Train acc: 0.480957\n",
      "Epoch: 7/20 Iteration: 605 Train loss: 1.093209 Train acc: 0.401367\n"
     ]
    },
    {
     "name": "stdout",
     "output_type": "stream",
     "text": [
      "Epoch: 7/20 Iteration: 610 Train loss: 1.151167 Train acc: 0.349609\n",
      "Epoch: 7/20 Iteration: 615 Train loss: 1.091776 Train acc: 0.422852\n",
      "Epoch: 7/20 Iteration: 620 Train loss: 1.128205 Train acc: 0.326172\n",
      "Epoch: 7/20 Iteration: 625 Train loss: 1.075866 Train acc: 0.454102\n",
      "Epoch: 7/20 Iteration: 630 Train loss: 1.015431 Train acc: 0.549805\n",
      "Epoch: 7/20 Iteration: 635 Train loss: 1.022099 Train acc: 0.562988\n",
      "Epoch: 7/20 Iteration: 640 Train loss: 1.102154 Train acc: 0.307617\n",
      "Epoch: 7/20 Iteration: 645 Train loss: 1.000162 Train acc: 0.631836\n",
      "Epoch: 7/20 Iteration: 650 Train loss: 1.058097 Train acc: 0.522461\n",
      "Epoch: 7/20 Iteration: 655 Train loss: 1.100643 Train acc: 0.336914\n",
      "Epoch: 7/20 Iteration: 660 Train loss: 1.107600 Train acc: 0.265137\n",
      "Epoch: 7/20 Iteration: 665 Train loss: 1.103811 Train acc: 0.282715\n",
      "Epoch: 7/20 Iteration: 670 Train loss: 1.031433 Train acc: 0.454590\n",
      "Epoch: 7/20 Iteration: 675 Train loss: 1.183963 Train acc: 0.324707\n",
      "Epoch: 7/20 Iteration: 680 Train loss: 1.201116 Train acc: 0.269531\n",
      "Epoch: 8/20 Iteration: 685 Train loss: 1.072716 Train acc: 0.495605\n",
      "Epoch: 8/20 Iteration: 690 Train loss: 1.092231 Train acc: 0.399902\n",
      "Epoch: 8/20 Iteration: 695 Train loss: 1.146518 Train acc: 0.349609\n",
      "Epoch: 8/20 Iteration: 700 Train loss: 1.091167 Train acc: 0.422852\n",
      "Epoch: 8/20 Iteration: 705 Train loss: 1.130890 Train acc: 0.326172\n",
      "Epoch: 8/20 Iteration: 710 Train loss: 1.073826 Train acc: 0.454102\n",
      "Epoch: 8/20 Iteration: 715 Train loss: 1.015268 Train acc: 0.549805\n",
      "Epoch: 8/20 Iteration: 720 Train loss: 1.021072 Train acc: 0.562988\n",
      "Epoch: 8/20 Iteration: 725 Train loss: 1.102244 Train acc: 0.307617\n",
      "Epoch: 8/20 Iteration: 730 Train loss: 0.996402 Train acc: 0.631836\n",
      "Epoch: 8/20 Iteration: 735 Train loss: 1.058145 Train acc: 0.522461\n",
      "Epoch: 8/20 Iteration: 740 Train loss: 1.102291 Train acc: 0.320312\n",
      "Epoch: 8/20 Iteration: 745 Train loss: 1.102804 Train acc: 0.296387\n",
      "Epoch: 8/20 Iteration: 750 Train loss: 1.097868 Train acc: 0.317871\n",
      "Epoch: 8/20 Iteration: 755 Train loss: 1.036854 Train acc: 0.424316\n",
      "Epoch: 8/20 Iteration: 760 Train loss: 1.182034 Train acc: 0.309570\n",
      "Epoch: 8/20 Iteration: 765 Train loss: 1.205050 Train acc: 0.239746\n",
      "Epoch: 9/20 Iteration: 770 Train loss: 1.067966 Train acc: 0.496094\n",
      "Epoch: 9/20 Iteration: 775 Train loss: 1.093502 Train acc: 0.399902\n",
      "Epoch: 9/20 Iteration: 780 Train loss: 1.145383 Train acc: 0.349609\n",
      "Epoch: 9/20 Iteration: 785 Train loss: 1.090715 Train acc: 0.422852\n",
      "Epoch: 9/20 Iteration: 790 Train loss: 1.129491 Train acc: 0.326172\n",
      "Epoch: 9/20 Iteration: 795 Train loss: 1.072462 Train acc: 0.454102\n",
      "Epoch: 9/20 Iteration: 800 Train loss: 1.015874 Train acc: 0.549805\n",
      "Epoch: 9/20 Iteration: 805 Train loss: 1.020843 Train acc: 0.562988\n",
      "Epoch: 9/20 Iteration: 810 Train loss: 1.102628 Train acc: 0.307617\n",
      "Epoch: 9/20 Iteration: 815 Train loss: 0.996455 Train acc: 0.631836\n",
      "Epoch: 9/20 Iteration: 820 Train loss: 1.057645 Train acc: 0.522461\n",
      "Epoch: 9/20 Iteration: 825 Train loss: 1.103782 Train acc: 0.337402\n",
      "Epoch: 9/20 Iteration: 830 Train loss: 1.101713 Train acc: 0.309570\n",
      "Epoch: 9/20 Iteration: 835 Train loss: 1.100417 Train acc: 0.316406\n",
      "Epoch: 9/20 Iteration: 840 Train loss: 1.035071 Train acc: 0.434082\n",
      "Epoch: 9/20 Iteration: 845 Train loss: 1.181400 Train acc: 0.325195\n",
      "Epoch: 9/20 Iteration: 850 Train loss: 1.197659 Train acc: 0.265625\n",
      "Epoch: 10/20 Iteration: 855 Train loss: 1.060746 Train acc: 0.496094\n",
      "Epoch: 10/20 Iteration: 860 Train loss: 1.093760 Train acc: 0.399902\n",
      "Epoch: 10/20 Iteration: 865 Train loss: 1.143341 Train acc: 0.349609\n",
      "Epoch: 10/20 Iteration: 870 Train loss: 1.090673 Train acc: 0.422852\n",
      "Epoch: 10/20 Iteration: 875 Train loss: 1.131487 Train acc: 0.326172\n",
      "Epoch: 10/20 Iteration: 880 Train loss: 1.070843 Train acc: 0.454102\n",
      "Epoch: 10/20 Iteration: 885 Train loss: 1.015362 Train acc: 0.549805\n",
      "Epoch: 10/20 Iteration: 890 Train loss: 1.018221 Train acc: 0.562988\n",
      "Epoch: 10/20 Iteration: 895 Train loss: 1.103790 Train acc: 0.307617\n",
      "Epoch: 10/20 Iteration: 900 Train loss: 0.993208 Train acc: 0.631836\n",
      "Epoch: 10/20 Iteration: 905 Train loss: 1.056798 Train acc: 0.522461\n",
      "Epoch: 10/20 Iteration: 910 Train loss: 1.107692 Train acc: 0.319824\n",
      "Epoch: 10/20 Iteration: 915 Train loss: 1.098547 Train acc: 0.327637\n",
      "Epoch: 10/20 Iteration: 920 Train loss: 1.099001 Train acc: 0.319336\n",
      "Epoch: 10/20 Iteration: 925 Train loss: 1.037256 Train acc: 0.420410\n",
      "Epoch: 10/20 Iteration: 930 Train loss: 1.182078 Train acc: 0.336426\n",
      "Epoch: 10/20 Iteration: 935 Train loss: 1.198991 Train acc: 0.256348\n",
      "Epoch: 11/20 Iteration: 940 Train loss: 1.058520 Train acc: 0.496094\n",
      "Epoch: 11/20 Iteration: 945 Train loss: 1.093905 Train acc: 0.399902\n",
      "Epoch: 11/20 Iteration: 950 Train loss: 1.142662 Train acc: 0.349609\n",
      "Epoch: 11/20 Iteration: 955 Train loss: 1.089615 Train acc: 0.422852\n",
      "Epoch: 11/20 Iteration: 960 Train loss: 1.132041 Train acc: 0.326172\n",
      "Epoch: 11/20 Iteration: 965 Train loss: 1.069485 Train acc: 0.454102\n",
      "Epoch: 11/20 Iteration: 970 Train loss: 1.016889 Train acc: 0.549805\n",
      "Epoch: 11/20 Iteration: 975 Train loss: 1.017654 Train acc: 0.562988\n",
      "Epoch: 11/20 Iteration: 980 Train loss: 1.106505 Train acc: 0.307617\n",
      "Epoch: 11/20 Iteration: 985 Train loss: 0.990645 Train acc: 0.631836\n",
      "Epoch: 11/20 Iteration: 990 Train loss: 1.055736 Train acc: 0.522461\n",
      "Epoch: 11/20 Iteration: 995 Train loss: 1.109008 Train acc: 0.311035\n",
      "Epoch: 11/20 Iteration: 1000 Train loss: 1.097275 Train acc: 0.332520\n",
      "Epoch: 11/20 Iteration: 1005 Train loss: 1.099488 Train acc: 0.320801\n",
      "Epoch: 11/20 Iteration: 1010 Train loss: 1.031972 Train acc: 0.446777\n",
      "Epoch: 11/20 Iteration: 1015 Train loss: 1.186683 Train acc: 0.302246\n",
      "Epoch: 11/20 Iteration: 1020 Train loss: 1.199143 Train acc: 0.246094\n",
      "Epoch: 12/20 Iteration: 1025 Train loss: 1.058607 Train acc: 0.496094\n",
      "Epoch: 12/20 Iteration: 1030 Train loss: 1.093029 Train acc: 0.399902\n",
      "Epoch: 12/20 Iteration: 1035 Train loss: 1.140038 Train acc: 0.349609\n",
      "Epoch: 12/20 Iteration: 1040 Train loss: 1.089227 Train acc: 0.422852\n",
      "Epoch: 12/20 Iteration: 1045 Train loss: 1.132732 Train acc: 0.326172\n",
      "Epoch: 12/20 Iteration: 1050 Train loss: 1.068893 Train acc: 0.454102\n",
      "Epoch: 12/20 Iteration: 1055 Train loss: 1.015907 Train acc: 0.549805\n",
      "Epoch: 12/20 Iteration: 1060 Train loss: 1.016962 Train acc: 0.562988\n",
      "Epoch: 12/20 Iteration: 1065 Train loss: 1.107535 Train acc: 0.307617\n",
      "Epoch: 12/20 Iteration: 1070 Train loss: 0.988912 Train acc: 0.631836\n",
      "Epoch: 12/20 Iteration: 1075 Train loss: 1.054146 Train acc: 0.522461\n",
      "Epoch: 12/20 Iteration: 1080 Train loss: 1.107403 Train acc: 0.300293\n",
      "Epoch: 12/20 Iteration: 1085 Train loss: 1.096679 Train acc: 0.334961\n",
      "Epoch: 12/20 Iteration: 1090 Train loss: 1.094633 Train acc: 0.361328\n",
      "Epoch: 12/20 Iteration: 1095 Train loss: 1.028525 Train acc: 0.431152\n",
      "Epoch: 12/20 Iteration: 1100 Train loss: 1.185543 Train acc: 0.310059\n",
      "Epoch: 12/20 Iteration: 1105 Train loss: 1.197933 Train acc: 0.260742\n",
      "Epoch: 13/20 Iteration: 1110 Train loss: 1.057692 Train acc: 0.496094\n",
      "Epoch: 13/20 Iteration: 1115 Train loss: 1.094738 Train acc: 0.399902\n",
      "Epoch: 13/20 Iteration: 1120 Train loss: 1.139395 Train acc: 0.349609\n",
      "Epoch: 13/20 Iteration: 1125 Train loss: 1.088377 Train acc: 0.422852\n",
      "Epoch: 13/20 Iteration: 1130 Train loss: 1.136348 Train acc: 0.326172\n",
      "Epoch: 13/20 Iteration: 1135 Train loss: 1.069006 Train acc: 0.454102\n",
      "Epoch: 13/20 Iteration: 1140 Train loss: 1.015863 Train acc: 0.549805\n",
      "Epoch: 13/20 Iteration: 1145 Train loss: 1.015397 Train acc: 0.562988\n",
      "Epoch: 13/20 Iteration: 1150 Train loss: 1.108666 Train acc: 0.307617\n",
      "Epoch: 13/20 Iteration: 1155 Train loss: 0.989296 Train acc: 0.631836\n",
      "Epoch: 13/20 Iteration: 1160 Train loss: 1.054352 Train acc: 0.522461\n",
      "Epoch: 13/20 Iteration: 1165 Train loss: 1.109183 Train acc: 0.303223\n",
      "Epoch: 13/20 Iteration: 1170 Train loss: 1.094119 Train acc: 0.353027\n",
      "Epoch: 13/20 Iteration: 1175 Train loss: 1.097084 Train acc: 0.358887\n",
      "Epoch: 13/20 Iteration: 1180 Train loss: 1.027454 Train acc: 0.468262\n",
      "Epoch: 13/20 Iteration: 1185 Train loss: 1.181328 Train acc: 0.328125\n",
      "Epoch: 13/20 Iteration: 1190 Train loss: 1.199290 Train acc: 0.241211\n",
      "Epoch: 14/20 Iteration: 1195 Train loss: 1.057052 Train acc: 0.496094\n",
      "Epoch: 14/20 Iteration: 1200 Train loss: 1.092126 Train acc: 0.399902\n"
     ]
    },
    {
     "name": "stdout",
     "output_type": "stream",
     "text": [
      "Epoch: 14/20 Iteration: 1205 Train loss: 1.141264 Train acc: 0.349609\n",
      "Epoch: 14/20 Iteration: 1210 Train loss: 1.088379 Train acc: 0.422852\n",
      "Epoch: 14/20 Iteration: 1215 Train loss: 1.134322 Train acc: 0.326172\n",
      "Epoch: 14/20 Iteration: 1220 Train loss: 1.068485 Train acc: 0.454102\n",
      "Epoch: 14/20 Iteration: 1225 Train loss: 1.017551 Train acc: 0.549805\n",
      "Epoch: 14/20 Iteration: 1230 Train loss: 1.014062 Train acc: 0.562988\n",
      "Epoch: 14/20 Iteration: 1235 Train loss: 1.110368 Train acc: 0.307617\n",
      "Epoch: 14/20 Iteration: 1240 Train loss: 0.987897 Train acc: 0.631836\n",
      "Epoch: 14/20 Iteration: 1245 Train loss: 1.052760 Train acc: 0.522461\n",
      "Epoch: 14/20 Iteration: 1250 Train loss: 1.107920 Train acc: 0.309082\n",
      "Epoch: 14/20 Iteration: 1255 Train loss: 1.093482 Train acc: 0.364258\n",
      "Epoch: 14/20 Iteration: 1260 Train loss: 1.100135 Train acc: 0.345703\n",
      "Epoch: 14/20 Iteration: 1265 Train loss: 1.027875 Train acc: 0.448730\n",
      "Epoch: 14/20 Iteration: 1270 Train loss: 1.186355 Train acc: 0.320312\n",
      "Epoch: 14/20 Iteration: 1275 Train loss: 1.197645 Train acc: 0.250000\n",
      "Epoch: 15/20 Iteration: 1280 Train loss: 1.058492 Train acc: 0.496094\n",
      "Epoch: 15/20 Iteration: 1285 Train loss: 1.094831 Train acc: 0.399902\n",
      "Epoch: 15/20 Iteration: 1290 Train loss: 1.139024 Train acc: 0.349609\n",
      "Epoch: 15/20 Iteration: 1295 Train loss: 1.087689 Train acc: 0.422852\n",
      "Epoch: 15/20 Iteration: 1300 Train loss: 1.134613 Train acc: 0.326172\n",
      "Epoch: 15/20 Iteration: 1305 Train loss: 1.067782 Train acc: 0.454102\n",
      "Epoch: 15/20 Iteration: 1310 Train loss: 1.016347 Train acc: 0.549805\n",
      "Epoch: 15/20 Iteration: 1315 Train loss: 1.012907 Train acc: 0.562988\n",
      "Epoch: 15/20 Iteration: 1320 Train loss: 1.110077 Train acc: 0.307617\n",
      "Epoch: 15/20 Iteration: 1325 Train loss: 0.985801 Train acc: 0.631836\n",
      "Epoch: 15/20 Iteration: 1330 Train loss: 1.051710 Train acc: 0.522461\n",
      "Epoch: 15/20 Iteration: 1335 Train loss: 1.109643 Train acc: 0.286133\n",
      "Epoch: 15/20 Iteration: 1340 Train loss: 1.091794 Train acc: 0.369629\n",
      "Epoch: 15/20 Iteration: 1345 Train loss: 1.099045 Train acc: 0.348633\n",
      "Epoch: 15/20 Iteration: 1350 Train loss: 1.024650 Train acc: 0.446289\n",
      "Epoch: 15/20 Iteration: 1355 Train loss: 1.182430 Train acc: 0.328125\n",
      "Epoch: 15/20 Iteration: 1360 Train loss: 1.197571 Train acc: 0.247070\n",
      "Epoch: 16/20 Iteration: 1365 Train loss: 1.057579 Train acc: 0.496094\n",
      "Epoch: 16/20 Iteration: 1370 Train loss: 1.094645 Train acc: 0.399902\n",
      "Epoch: 16/20 Iteration: 1375 Train loss: 1.138887 Train acc: 0.349609\n",
      "Epoch: 16/20 Iteration: 1380 Train loss: 1.086492 Train acc: 0.422852\n",
      "Epoch: 16/20 Iteration: 1385 Train loss: 1.136306 Train acc: 0.326172\n",
      "Epoch: 16/20 Iteration: 1390 Train loss: 1.065739 Train acc: 0.454102\n",
      "Epoch: 16/20 Iteration: 1395 Train loss: 1.016267 Train acc: 0.549805\n",
      "Epoch: 16/20 Iteration: 1400 Train loss: 1.014537 Train acc: 0.562988\n",
      "Epoch: 16/20 Iteration: 1405 Train loss: 1.111340 Train acc: 0.307617\n",
      "Epoch: 16/20 Iteration: 1410 Train loss: 0.986939 Train acc: 0.631836\n",
      "Epoch: 16/20 Iteration: 1415 Train loss: 1.051597 Train acc: 0.522461\n",
      "Epoch: 16/20 Iteration: 1420 Train loss: 1.109036 Train acc: 0.293457\n",
      "Epoch: 16/20 Iteration: 1425 Train loss: 1.091233 Train acc: 0.371094\n",
      "Epoch: 16/20 Iteration: 1430 Train loss: 1.097741 Train acc: 0.374512\n",
      "Epoch: 16/20 Iteration: 1435 Train loss: 1.027551 Train acc: 0.435547\n",
      "Epoch: 16/20 Iteration: 1440 Train loss: 1.182600 Train acc: 0.332520\n",
      "Epoch: 16/20 Iteration: 1445 Train loss: 1.197683 Train acc: 0.249023\n",
      "Epoch: 17/20 Iteration: 1450 Train loss: 1.059703 Train acc: 0.496094\n",
      "Epoch: 17/20 Iteration: 1455 Train loss: 1.094799 Train acc: 0.399902\n",
      "Epoch: 17/20 Iteration: 1460 Train loss: 1.137834 Train acc: 0.349609\n",
      "Epoch: 17/20 Iteration: 1465 Train loss: 1.087126 Train acc: 0.422852\n",
      "Epoch: 17/20 Iteration: 1470 Train loss: 1.135497 Train acc: 0.326172\n",
      "Epoch: 17/20 Iteration: 1475 Train loss: 1.066487 Train acc: 0.454102\n",
      "Epoch: 17/20 Iteration: 1480 Train loss: 1.016555 Train acc: 0.549805\n",
      "Epoch: 17/20 Iteration: 1485 Train loss: 1.013629 Train acc: 0.562988\n",
      "Epoch: 17/20 Iteration: 1490 Train loss: 1.112832 Train acc: 0.307617\n",
      "Epoch: 17/20 Iteration: 1495 Train loss: 0.984534 Train acc: 0.631836\n",
      "Epoch: 17/20 Iteration: 1500 Train loss: 1.052085 Train acc: 0.522461\n",
      "Epoch: 17/20 Iteration: 1505 Train loss: 1.108938 Train acc: 0.296387\n",
      "Epoch: 17/20 Iteration: 1510 Train loss: 1.090945 Train acc: 0.387207\n",
      "Epoch: 17/20 Iteration: 1515 Train loss: 1.097510 Train acc: 0.394043\n",
      "Epoch: 17/20 Iteration: 1520 Train loss: 1.027108 Train acc: 0.436523\n",
      "Epoch: 17/20 Iteration: 1525 Train loss: 1.187477 Train acc: 0.323730\n",
      "Epoch: 17/20 Iteration: 1530 Train loss: 1.198918 Train acc: 0.239746\n",
      "Epoch: 18/20 Iteration: 1535 Train loss: 1.059202 Train acc: 0.496094\n",
      "Epoch: 18/20 Iteration: 1540 Train loss: 1.095917 Train acc: 0.399902\n",
      "Epoch: 18/20 Iteration: 1545 Train loss: 1.134802 Train acc: 0.349609\n",
      "Epoch: 18/20 Iteration: 1550 Train loss: 1.087094 Train acc: 0.422852\n",
      "Epoch: 18/20 Iteration: 1555 Train loss: 1.134048 Train acc: 0.326172\n",
      "Epoch: 18/20 Iteration: 1560 Train loss: 1.066537 Train acc: 0.454102\n",
      "Epoch: 18/20 Iteration: 1565 Train loss: 1.015997 Train acc: 0.549805\n",
      "Epoch: 18/20 Iteration: 1570 Train loss: 1.013136 Train acc: 0.562988\n",
      "Epoch: 18/20 Iteration: 1575 Train loss: 1.112882 Train acc: 0.307617\n",
      "Epoch: 18/20 Iteration: 1580 Train loss: 0.982094 Train acc: 0.631836\n",
      "Epoch: 18/20 Iteration: 1585 Train loss: 1.051362 Train acc: 0.522461\n",
      "Epoch: 18/20 Iteration: 1590 Train loss: 1.109058 Train acc: 0.293945\n",
      "Epoch: 18/20 Iteration: 1595 Train loss: 1.090108 Train acc: 0.393066\n",
      "Epoch: 18/20 Iteration: 1600 Train loss: 1.096099 Train acc: 0.386230\n",
      "Epoch: 18/20 Iteration: 1605 Train loss: 1.024065 Train acc: 0.452637\n",
      "Epoch: 18/20 Iteration: 1610 Train loss: 1.182169 Train acc: 0.324707\n",
      "Epoch: 18/20 Iteration: 1615 Train loss: 1.196692 Train acc: 0.258301\n",
      "Epoch: 19/20 Iteration: 1620 Train loss: 1.058892 Train acc: 0.496094\n",
      "Epoch: 19/20 Iteration: 1625 Train loss: 1.095579 Train acc: 0.399902\n",
      "Epoch: 19/20 Iteration: 1630 Train loss: 1.137619 Train acc: 0.349609\n",
      "Epoch: 19/20 Iteration: 1635 Train loss: 1.088356 Train acc: 0.422852\n",
      "Epoch: 19/20 Iteration: 1640 Train loss: 1.136386 Train acc: 0.326172\n",
      "Epoch: 19/20 Iteration: 1645 Train loss: 1.067288 Train acc: 0.454102\n",
      "Epoch: 19/20 Iteration: 1650 Train loss: 1.016263 Train acc: 0.549805\n",
      "Epoch: 19/20 Iteration: 1655 Train loss: 1.015227 Train acc: 0.562988\n",
      "Epoch: 19/20 Iteration: 1660 Train loss: 1.113058 Train acc: 0.307617\n",
      "Epoch: 19/20 Iteration: 1665 Train loss: 0.985037 Train acc: 0.631836\n",
      "Epoch: 19/20 Iteration: 1670 Train loss: 1.051562 Train acc: 0.522461\n",
      "Epoch: 19/20 Iteration: 1675 Train loss: 1.110687 Train acc: 0.276855\n",
      "Epoch: 19/20 Iteration: 1680 Train loss: 1.089695 Train acc: 0.406250\n",
      "Epoch: 19/20 Iteration: 1685 Train loss: 1.094202 Train acc: 0.396973\n",
      "Epoch: 19/20 Iteration: 1690 Train loss: 1.028198 Train acc: 0.449707\n",
      "Epoch: 19/20 Iteration: 1695 Train loss: 1.180544 Train acc: 0.334961\n",
      "Epoch: 19/20 Iteration: 1700 Train loss: 1.202512 Train acc: 0.249512\n"
     ]
    }
   ],
   "source": [
    "interation_compute_val = 1\n",
    "validation_acc = []\n",
    "validation_loss = []\n",
    "\n",
    "train_acc = []\n",
    "train_loss = []\n",
    "\n",
    "with graph.as_default():\n",
    "    saver = tf.train.Saver()\n",
    "\n",
    "with tf.Session(graph=graph) as sess:\n",
    "    sess.run(tf.global_variables_initializer())\n",
    "    iteration = 1\n",
    "    \n",
    "    for e in range(epochs):\n",
    "        # Initialize \n",
    "        state = sess.run(initial_state)\n",
    "        \n",
    "        # Loop over batches\n",
    "        for x,y in get_batches(X_tr, y_tr, batch_size):\n",
    "            \n",
    "            # Feed dictionary\n",
    "            feed = {inputs_ : x, labels_ : y, keep_prob_ : 0.5, \n",
    "                    initial_state : state, learning_rate_ : learning_rate}\n",
    "            \n",
    "            loss, _ , state, acc = sess.run([cost, optimizer, final_state, accuracy], \n",
    "                                             feed_dict = feed)\n",
    "            train_acc.append(acc)\n",
    "            train_loss.append(loss)\n",
    "            \n",
    "            # Print at each 5 iters\n",
    "            if (iteration % 5 == 0):\n",
    "                print(\"Epoch: {}/{}\".format(e, epochs),\n",
    "                      \"Iteration: {:d}\".format(iteration),\n",
    "                      \"Train loss: {:6f}\".format(loss),\n",
    "                      \"Train acc: {:.6f}\".format(acc))\n",
    "            \n",
    "            # Compute validation loss at every 25 iterations\n",
    "            if (iteration%interation_compute_val == 50):\n",
    "                \n",
    "                # Initiate for validation set\n",
    "                val_state = sess.run(cell.zero_state(batch_size, tf.float32))\n",
    "                \n",
    "                val_acc_ = []\n",
    "                val_loss_ = []\n",
    "                for x_v, y_v in get_batches(X_vld, y_vld, batch_size):\n",
    "                    # Feed\n",
    "                    feed = {inputs_ : x_v, labels_ : y_v, keep_prob_ : 1.0, initial_state : val_state}\n",
    "                    \n",
    "                    # Loss\n",
    "                    loss_v, state_v, acc_v = sess.run([cost, final_state, accuracy], feed_dict = feed)\n",
    "                    \n",
    "                    val_acc_.append(acc_v)\n",
    "                    val_loss_.append(loss_v)\n",
    "                \n",
    "                # Print info\n",
    "                print(\"Epoch: {}/{}\".format(e, epochs),\n",
    "                      \"Iteration: {:d}\".format(iteration),\n",
    "                      \"Validation loss: {:6f}\".format(np.mean(val_loss_)),\n",
    "                      \"Validation acc: {:.6f}\".format(np.mean(val_acc_)))\n",
    "                \n",
    "                # Store\n",
    "                validation_acc.append(np.mean(val_acc_))\n",
    "                validation_loss.append(np.mean(val_loss_))\n",
    "            \n",
    "            # Iterate \n",
    "            iteration += 1\n",
    "    \n",
    "    saver.save(sess,\"checkpoints/har-lstm.ckpt\")"
   ]
  },
  {
   "cell_type": "code",
   "execution_count": 16,
   "metadata": {},
   "outputs": [
    {
     "data": {
      "image/png": "[encoded data removed]",
      "text/plain": [
       "<Figure size 432x432 with 1 Axes>"
      ]
     },
     "metadata": {},
     "output_type": "display_data"
    }
   ],
   "source": [
    "# Plot training and test loss\n",
    "t = np.arange(iteration-1)\n",
    "\n",
    "plt.figure(figsize = (6,6))\n",
    "plt.plot(t, np.array(train_loss), 'r-', t[t % interation_compute_val == 50], np.array(validation_loss), 'b*')\n",
    "plt.xlabel(\"iteration\")\n",
    "plt.ylabel(\"Loss\")\n",
    "plt.legend(['train', 'validation'], loc='upper right')\n",
    "plt.show()"
   ]
  },
  {
   "cell_type": "code",
   "execution_count": 17,
   "metadata": {},
   "outputs": [
    {
     "data": {
      "image/png": "[encoded data removed]",
      "text/plain": [
       "<Figure size 432x432 with 1 Axes>"
      ]
     },
     "metadata": {},
     "output_type": "display_data"
    }
   ],
   "source": [
    "\n",
    "# Plot Accuracies# Plot A \n",
    "plt.figure(figsize = (6,6))\n",
    "\n",
    "plt.plot(t, np.array(train_acc), 'r-', t[t % interation_compute_val == 50], validation_acc, 'b*')\n",
    "plt.xlabel(\"iteration\")\n",
    "plt.ylabel(\"Accuray\")\n",
    "plt.legend(['train', 'validation'], loc='upper right')\n",
    "plt.show()"
   ]
  },
  {
   "cell_type": "markdown",
   "metadata": {},
   "source": [
    "Evaluate on test set"
   ]
  },
  {
   "cell_type": "code",
   "execution_count": 18,
   "metadata": {},
   "outputs": [
    {
     "name": "stdout",
     "output_type": "stream",
     "text": [
      "INFO:tensorflow:Restoring parameters from checkpoints\\har-lstm.ckpt\n",
      "(70650, 3)\n",
      "0.466797\n",
      "0.601074\n",
      "0.477539\n",
      "0.681152\n",
      "0.422363\n",
      "0.526855\n",
      "0.526367\n",
      "0.64209\n",
      "0.535645\n",
      "0.401855\n",
      "0.505371\n",
      "0.544922\n",
      "0.550781\n",
      "0.484863\n",
      "0.382324\n",
      "0.454102\n",
      "0.194336\n",
      "0.0\n",
      "0.0\n",
      "0.0\n",
      "0.0\n",
      "0.0\n",
      "0.0\n",
      "0.0\n",
      "0.0\n",
      "0.0\n",
      "0.0\n",
      "0.0\n",
      "0.0\n",
      "0.0\n",
      "0.0\n",
      "0.0\n",
      "0.0\n",
      "0.0\n",
      "Test accuracy: 0.247013\n"
     ]
    }
   ],
   "source": [
    "test_acc = []\n",
    "\n",
    "with tf.Session(graph=graph) as sess:\n",
    "    # Restore\n",
    "    saver.restore(sess, tf.train.latest_checkpoint('checkpoints'))\n",
    "    test_state = sess.run(cell.zero_state(batch_size, tf.float32))\n",
    "    print(y_vld.shape)\n",
    "    for x_t, y_t in get_batches(X_vld, y_vld, batch_size):        \n",
    "        feed = {inputs_: x_t,\n",
    "                labels_: y_t,\n",
    "                keep_prob_: 1,\n",
    "                initial_state: test_state}\n",
    "        \n",
    "        batch_acc, test_state = sess.run([accuracy, final_state], feed_dict=feed)\n",
    "        test_acc.append(batch_acc)\n",
    "        print(batch_acc)\n",
    "    print(\"Test accuracy: {:.6f}\".format(np.mean(test_acc)))"
   ]
  },
  {
   "cell_type": "code",
   "execution_count": 19,
   "metadata": {},
   "outputs": [
    {
     "name": "stdout",
     "output_type": "stream",
     "text": [
      "[[ 0  1  2  0  4  5  6  7  8 10]\n",
      " [ 0 11  0 13  0 15  0 17 18  0]]\n"
     ]
    }
   ],
   "source": [
    "\n",
    "a = np.array([[ 0,  1,  2,  0,  4,  5,  6,  7,  8,  10],\n",
    "              [ 0, 11,  0, 13,  0, 15,  0, 17, 18,  0]])\n",
    "print (a[a.max(axis=1) >= 10])\n"
   ]
  },
  {
   "cell_type": "code",
   "execution_count": 20,
   "metadata": {},
   "outputs": [
    {
     "name": "stdout",
     "output_type": "stream",
     "text": [
      "[[0 1 2 0 4 5 6 7 8 9]]\n"
     ]
    }
   ],
   "source": [
    "\n",
    "a = np.array([[ 0,  1,  2,  0,  4,  5,  6,  7,  8,  9],\n",
    "              [ 0, 11,  0, 13,  0, 15,  0, 17, 18,  0]])\n",
    "print (a[a[:,2]!=0])"
   ]
  },
  {
   "cell_type": "code",
   "execution_count": 21,
   "metadata": {},
   "outputs": [
    {
     "ename": "NameError",
     "evalue": "name 'ytest' is not defined",
     "output_type": "error",
     "traceback": [
      "\u001b[1;31m---------------------------------------------------------------------------\u001b[0m",
      "\u001b[1;31mNameError\u001b[0m                                 Traceback (most recent call last)",
      "\u001b[1;32m<ipython-input-21-a2bf8e0aca21>\u001b[0m in \u001b[0;36m<module>\u001b[1;34m()\u001b[0m\n\u001b[1;32m----> 1\u001b[1;33m \u001b[0mprint\u001b[0m\u001b[1;33m(\u001b[0m\u001b[0mytest\u001b[0m\u001b[1;33m[\u001b[0m\u001b[1;33m:\u001b[0m\u001b[1;33m]\u001b[0m\u001b[1;33m!=\u001b[0m\u001b[1;36m0\u001b[0m\u001b[1;33m)\u001b[0m\u001b[1;33m\u001b[0m\u001b[0m\n\u001b[0m\u001b[0;32m      2\u001b[0m Xtest = np.array([[ 0,  1,  2,  0,  4,  5,  6,  7,  8,  9],\n\u001b[0;32m      3\u001b[0m               \u001b[1;33m[\u001b[0m \u001b[1;36m0\u001b[0m\u001b[1;33m,\u001b[0m \u001b[1;36m11\u001b[0m\u001b[1;33m,\u001b[0m  \u001b[1;36m0\u001b[0m\u001b[1;33m,\u001b[0m \u001b[1;36m13\u001b[0m\u001b[1;33m,\u001b[0m  \u001b[1;36m0\u001b[0m\u001b[1;33m,\u001b[0m \u001b[1;36m15\u001b[0m\u001b[1;33m,\u001b[0m  \u001b[1;36m0\u001b[0m\u001b[1;33m,\u001b[0m \u001b[1;36m17\u001b[0m\u001b[1;33m,\u001b[0m \u001b[1;36m18\u001b[0m\u001b[1;33m,\u001b[0m  \u001b[1;36m0\u001b[0m\u001b[1;33m]\u001b[0m\u001b[1;33m,\u001b[0m\u001b[1;33m\u001b[0m\u001b[0m\n\u001b[0;32m      4\u001b[0m              [ 0, 11,  0, 13,  0, 15,  0, 11, 1,  1]])\n\u001b[0;32m      5\u001b[0m \u001b[0mytest\u001b[0m \u001b[1;33m=\u001b[0m \u001b[0mnp\u001b[0m\u001b[1;33m.\u001b[0m\u001b[0marray\u001b[0m\u001b[1;33m(\u001b[0m\u001b[1;33m[\u001b[0m \u001b[1;36m0\u001b[0m\u001b[1;33m,\u001b[0m  \u001b[1;36m1\u001b[0m\u001b[1;33m,\u001b[0m  \u001b[1;36m1\u001b[0m\u001b[1;33m]\u001b[0m\u001b[1;33m)\u001b[0m\u001b[1;33m\u001b[0m\u001b[0m\n",
      "\u001b[1;31mNameError\u001b[0m: name 'ytest' is not defined"
     ]
    }
   ],
   "source": [
    "print(ytest[:]!=0)\n",
    "Xtest = np.array([[ 0,  1,  2,  0,  4,  5,  6,  7,  8,  9],\n",
    "              [ 0, 11,  0, 13,  0, 15,  0, 17, 18,  0],\n",
    "             [ 0, 11,  0, 13,  0, 15,  0, 11, 1,  1]])\n",
    "ytest = np.array([ 0,  1,  1])\n",
    "Xtest = Xtest[ytest[:]!=0,:]\n",
    "ytest = ytest[ytest[:]!=0]\n",
    "print(Xtest)\n",
    "print(ytest)"
   ]
  },
  {
   "cell_type": "code",
   "execution_count": null,
   "metadata": {
    "collapsed": true
   },
   "outputs": [],
   "source": []
  }
 ],
 "metadata": {
  "kernelspec": {
   "display_name": "Python 3",
   "language": "python",
   "name": "python3"
  },
  "language_info": {
   "codemirror_mode": {
    "name": "ipython",
    "version": 3
   },
   "file_extension": ".py",
   "mimetype": "text/x-python",
   "name": "python",
   "nbconvert_exporter": "python",
   "pygments_lexer": "ipython3",
   "version": "3.5.4"
  }
 },
 "nbformat": 4,
 "nbformat_minor": 2
}
